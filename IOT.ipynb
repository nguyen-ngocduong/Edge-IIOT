{
 "cells": [
  {
   "cell_type": "markdown",
   "metadata": {},
   "source": [
    "### Import Library"
   ]
  },
  {
   "cell_type": "code",
   "execution_count": 50,
   "metadata": {},
   "outputs": [],
   "source": [
    "import pandas as pd\n",
    "import numpy as np\n",
    "import matplotlib.pyplot as plt\n",
    "import seaborn as sns"
   ]
  },
  {
   "cell_type": "markdown",
   "metadata": {},
   "source": [
    "### đọc dữ liệu"
   ]
  },
  {
   "cell_type": "code",
   "execution_count": 51,
   "metadata": {},
   "outputs": [],
   "source": [
    "path = r'C:\\Users\\nguye\\OneDrive\\Tài liệu\\GitHub\\Edge-IIOT\\ML-EdgeIIoT-dataset.csv'"
   ]
  },
  {
   "cell_type": "code",
   "execution_count": 52,
   "metadata": {},
   "outputs": [
    {
     "name": "stderr",
     "output_type": "stream",
     "text": [
      "C:\\Users\\nguye\\AppData\\Local\\Temp\\ipykernel_14416\\822284616.py:1: DtypeWarning: Columns (3,6,11,13,14,15,16,17,31,32,34,39,45,51,54,55) have mixed types. Specify dtype option on import or set low_memory=False.\n",
      "  data = pd.read_csv(path)\n"
     ]
    }
   ],
   "source": [
    "data = pd.read_csv(path)"
   ]
  },
  {
   "cell_type": "code",
   "execution_count": 53,
   "metadata": {},
   "outputs": [],
   "source": [
    "df = data.copy()"
   ]
  },
  {
   "cell_type": "markdown",
   "metadata": {},
   "source": [
    "### EDA"
   ]
  },
  {
   "cell_type": "code",
   "execution_count": 54,
   "metadata": {},
   "outputs": [
    {
     "name": "stdout",
     "output_type": "stream",
     "text": [
      "<class 'pandas.core.frame.DataFrame'>\n",
      "RangeIndex: 157800 entries, 0 to 157799\n",
      "Data columns (total 63 columns):\n",
      " #   Column                     Non-Null Count   Dtype  \n",
      "---  ------                     --------------   -----  \n",
      " 0   frame.time                 157800 non-null  object \n",
      " 1   ip.src_host                157800 non-null  object \n",
      " 2   ip.dst_host                157800 non-null  object \n",
      " 3   arp.dst.proto_ipv4         157800 non-null  object \n",
      " 4   arp.opcode                 157800 non-null  float64\n",
      " 5   arp.hw.size                157800 non-null  float64\n",
      " 6   arp.src.proto_ipv4         157800 non-null  object \n",
      " 7   icmp.checksum              157800 non-null  float64\n",
      " 8   icmp.seq_le                157800 non-null  float64\n",
      " 9   icmp.transmit_timestamp    157800 non-null  float64\n",
      " 10  icmp.unused                157800 non-null  float64\n",
      " 11  http.file_data             157800 non-null  object \n",
      " 12  http.content_length        157800 non-null  float64\n",
      " 13  http.request.uri.query     157800 non-null  object \n",
      " 14  http.request.method        157800 non-null  object \n",
      " 15  http.referer               157800 non-null  object \n",
      " 16  http.request.full_uri      157800 non-null  object \n",
      " 17  http.request.version       157800 non-null  object \n",
      " 18  http.response              157800 non-null  float64\n",
      " 19  http.tls_port              157800 non-null  float64\n",
      " 20  tcp.ack                    157800 non-null  float64\n",
      " 21  tcp.ack_raw                157800 non-null  float64\n",
      " 22  tcp.checksum               157800 non-null  float64\n",
      " 23  tcp.connection.fin         157800 non-null  float64\n",
      " 24  tcp.connection.rst         157800 non-null  float64\n",
      " 25  tcp.connection.syn         157800 non-null  float64\n",
      " 26  tcp.connection.synack      157800 non-null  float64\n",
      " 27  tcp.dstport                157800 non-null  float64\n",
      " 28  tcp.flags                  157800 non-null  float64\n",
      " 29  tcp.flags.ack              157800 non-null  float64\n",
      " 30  tcp.len                    157800 non-null  float64\n",
      " 31  tcp.options                157800 non-null  object \n",
      " 32  tcp.payload                157800 non-null  object \n",
      " 33  tcp.seq                    157800 non-null  float64\n",
      " 34  tcp.srcport                157800 non-null  object \n",
      " 35  udp.port                   157800 non-null  float64\n",
      " 36  udp.stream                 157800 non-null  float64\n",
      " 37  udp.time_delta             157800 non-null  float64\n",
      " 38  dns.qry.name               157800 non-null  float64\n",
      " 39  dns.qry.name.len           157800 non-null  object \n",
      " 40  dns.qry.qu                 157800 non-null  float64\n",
      " 41  dns.qry.type               157800 non-null  float64\n",
      " 42  dns.retransmission         157800 non-null  float64\n",
      " 43  dns.retransmit_request     157800 non-null  float64\n",
      " 44  dns.retransmit_request_in  157800 non-null  float64\n",
      " 45  mqtt.conack.flags          157800 non-null  object \n",
      " 46  mqtt.conflag.cleansess     157800 non-null  float64\n",
      " 47  mqtt.conflags              157800 non-null  float64\n",
      " 48  mqtt.hdrflags              157800 non-null  float64\n",
      " 49  mqtt.len                   157800 non-null  float64\n",
      " 50  mqtt.msg_decoded_as        157800 non-null  float64\n",
      " 51  mqtt.msg                   157800 non-null  object \n",
      " 52  mqtt.msgtype               157800 non-null  float64\n",
      " 53  mqtt.proto_len             157800 non-null  float64\n",
      " 54  mqtt.protoname             157800 non-null  object \n",
      " 55  mqtt.topic                 157800 non-null  object \n",
      " 56  mqtt.topic_len             157800 non-null  float64\n",
      " 57  mqtt.ver                   157800 non-null  float64\n",
      " 58  mbtcp.len                  157800 non-null  float64\n",
      " 59  mbtcp.trans_id             157800 non-null  float64\n",
      " 60  mbtcp.unit_id              157800 non-null  float64\n",
      " 61  Attack_label               157800 non-null  int64  \n",
      " 62  Attack_type                157800 non-null  object \n",
      "dtypes: float64(42), int64(1), object(20)\n",
      "memory usage: 75.8+ MB\n"
     ]
    }
   ],
   "source": [
    "df.info()"
   ]
  },
  {
   "cell_type": "code",
   "execution_count": 55,
   "metadata": {},
   "outputs": [
    {
     "data": {
      "text/plain": [
       "Index(['frame.time', 'ip.src_host', 'ip.dst_host', 'arp.dst.proto_ipv4',\n",
       "       'arp.opcode', 'arp.hw.size', 'arp.src.proto_ipv4', 'icmp.checksum',\n",
       "       'icmp.seq_le', 'icmp.transmit_timestamp', 'icmp.unused',\n",
       "       'http.file_data', 'http.content_length', 'http.request.uri.query',\n",
       "       'http.request.method', 'http.referer', 'http.request.full_uri',\n",
       "       'http.request.version', 'http.response', 'http.tls_port', 'tcp.ack',\n",
       "       'tcp.ack_raw', 'tcp.checksum', 'tcp.connection.fin',\n",
       "       'tcp.connection.rst', 'tcp.connection.syn', 'tcp.connection.synack',\n",
       "       'tcp.dstport', 'tcp.flags', 'tcp.flags.ack', 'tcp.len', 'tcp.options',\n",
       "       'tcp.payload', 'tcp.seq', 'tcp.srcport', 'udp.port', 'udp.stream',\n",
       "       'udp.time_delta', 'dns.qry.name', 'dns.qry.name.len', 'dns.qry.qu',\n",
       "       'dns.qry.type', 'dns.retransmission', 'dns.retransmit_request',\n",
       "       'dns.retransmit_request_in', 'mqtt.conack.flags',\n",
       "       'mqtt.conflag.cleansess', 'mqtt.conflags', 'mqtt.hdrflags', 'mqtt.len',\n",
       "       'mqtt.msg_decoded_as', 'mqtt.msg', 'mqtt.msgtype', 'mqtt.proto_len',\n",
       "       'mqtt.protoname', 'mqtt.topic', 'mqtt.topic_len', 'mqtt.ver',\n",
       "       'mbtcp.len', 'mbtcp.trans_id', 'mbtcp.unit_id', 'Attack_label',\n",
       "       'Attack_type'],\n",
       "      dtype='object')"
      ]
     },
     "execution_count": 55,
     "metadata": {},
     "output_type": "execute_result"
    }
   ],
   "source": [
    "df.columns"
   ]
  },
  {
   "cell_type": "code",
   "execution_count": 56,
   "metadata": {},
   "outputs": [
    {
     "data": {
      "text/plain": [
       "814"
      ]
     },
     "execution_count": 56,
     "metadata": {},
     "output_type": "execute_result"
    }
   ],
   "source": [
    "df.duplicated().sum()"
   ]
  },
  {
   "cell_type": "markdown",
   "metadata": {},
   "source": [
    "### Data Cleaning\n"
   ]
  },
  {
   "cell_type": "code",
   "execution_count": 57,
   "metadata": {},
   "outputs": [],
   "source": [
    "drop_columns = ['ip.src_host', 'ip.dst_host','http.content_length', 'dns.qry.name.len', 'mqtt.len',\n",
    "'mqtt.msg', 'mqtt.proto_len', 'mqtt.topic_len']\n",
    "df.drop(drop_columns, axis = 1, inplace = True)"
   ]
  },
  {
   "cell_type": "code",
   "execution_count": 58,
   "metadata": {},
   "outputs": [],
   "source": [
    "df.drop_duplicates(subset = None, keep = 'first', inplace = True) # loại bỏ các từ trùng lặp"
   ]
  },
  {
   "cell_type": "code",
   "execution_count": 59,
   "metadata": {},
   "outputs": [
    {
     "data": {
      "text/plain": [
       "0"
      ]
     },
     "execution_count": 59,
     "metadata": {},
     "output_type": "execute_result"
    }
   ],
   "source": [
    "df.duplicated().sum()"
   ]
  },
  {
   "cell_type": "code",
   "execution_count": 60,
   "metadata": {},
   "outputs": [
    {
     "data": {
      "text/plain": [
       "frame.time                   0\n",
       "arp.dst.proto_ipv4           0\n",
       "arp.opcode                   0\n",
       "arp.hw.size                  0\n",
       "arp.src.proto_ipv4           0\n",
       "icmp.checksum                0\n",
       "icmp.seq_le                  0\n",
       "icmp.transmit_timestamp      0\n",
       "icmp.unused                  0\n",
       "http.file_data               0\n",
       "http.request.uri.query       0\n",
       "http.request.method          0\n",
       "http.referer                 0\n",
       "http.request.full_uri        0\n",
       "http.request.version         0\n",
       "http.response                0\n",
       "http.tls_port                0\n",
       "tcp.ack                      0\n",
       "tcp.ack_raw                  0\n",
       "tcp.checksum                 0\n",
       "tcp.connection.fin           0\n",
       "tcp.connection.rst           0\n",
       "tcp.connection.syn           0\n",
       "tcp.connection.synack        0\n",
       "tcp.dstport                  0\n",
       "tcp.flags                    0\n",
       "tcp.flags.ack                0\n",
       "tcp.len                      0\n",
       "tcp.options                  0\n",
       "tcp.payload                  0\n",
       "tcp.seq                      0\n",
       "tcp.srcport                  0\n",
       "udp.port                     0\n",
       "udp.stream                   0\n",
       "udp.time_delta               0\n",
       "dns.qry.name                 0\n",
       "dns.qry.qu                   0\n",
       "dns.qry.type                 0\n",
       "dns.retransmission           0\n",
       "dns.retransmit_request       0\n",
       "dns.retransmit_request_in    0\n",
       "mqtt.conack.flags            0\n",
       "mqtt.conflag.cleansess       0\n",
       "mqtt.conflags                0\n",
       "mqtt.hdrflags                0\n",
       "mqtt.msg_decoded_as          0\n",
       "mqtt.msgtype                 0\n",
       "mqtt.protoname               0\n",
       "mqtt.topic                   0\n",
       "mqtt.ver                     0\n",
       "mbtcp.len                    0\n",
       "mbtcp.trans_id               0\n",
       "mbtcp.unit_id                0\n",
       "Attack_label                 0\n",
       "Attack_type                  0\n",
       "dtype: int64"
      ]
     },
     "execution_count": 60,
     "metadata": {},
     "output_type": "execute_result"
    }
   ],
   "source": [
    "df.isnull().sum()"
   ]
  },
  {
   "cell_type": "code",
   "execution_count": 61,
   "metadata": {},
   "outputs": [
    {
     "data": {
      "text/plain": [
       "Attack_label\n",
       "1    132680\n",
       "0     24301\n",
       "Name: count, dtype: int64"
      ]
     },
     "execution_count": 61,
     "metadata": {},
     "output_type": "execute_result"
    }
   ],
   "source": [
    "df['Attack_label'].value_counts()"
   ]
  },
  {
   "cell_type": "code",
   "execution_count": 62,
   "metadata": {},
   "outputs": [
    {
     "data": {
      "text/plain": [
       "array(['MITM', 'Fingerprinting', 'Ransomware', 'Uploading',\n",
       "       'SQL_injection', 'DDoS_HTTP', 'DDoS_TCP', 'Password',\n",
       "       'Port_Scanning', 'Vulnerability_scanner', 'Backdoor', 'XSS',\n",
       "       'Normal', 'DDoS_UDP', 'DDoS_ICMP'], dtype=object)"
      ]
     },
     "execution_count": 62,
     "metadata": {},
     "output_type": "execute_result"
    }
   ],
   "source": [
    "df['Attack_type'].unique()"
   ]
  },
  {
   "cell_type": "code",
   "execution_count": 63,
   "metadata": {},
   "outputs": [],
   "source": [
    "mapping = {\n",
    "    'DDoS_UDP': 'DoS/DDoS Attack',\n",
    "    'DDoS_ICMP' : 'DoS/DDoS Attack',\n",
    "    'DDoS_HTTP': 'DoS/DDoS Attack',\n",
    "    'DDoS_TCP': 'DoS/DDoS Attack',\n",
    "    'Port_Scanning': 'Information Gathering',\n",
    "    'Fingerprinting': 'Information Gathering',\n",
    "    'Vulnerability_scanner': 'Information Gathering',\n",
    "    'MITM': 'Main in the middle Attack',\n",
    "    'XSS': 'Injection Attack',\n",
    "    'SQL_injection': 'Injection Attack',\n",
    "    'Uploading': 'Injection Attack',\n",
    "    'Backdoor': 'Malware Attack',\n",
    "    'Password': 'Malware Attack',\n",
    "    'Ransomware': 'Malware Attack',\n",
    "    'Normal' : 'Normal'\n",
    "}\n",
    "\n",
    "df['Attack_type'] = df['Attack_type'].map(mapping)"
   ]
  },
  {
   "cell_type": "markdown",
   "metadata": {},
   "source": [
    "### Feature Selection"
   ]
  },
  {
   "cell_type": "code",
   "execution_count": 64,
   "metadata": {},
   "outputs": [],
   "source": [
    "df2 = df.copy()"
   ]
  },
  {
   "cell_type": "code",
   "execution_count": 65,
   "metadata": {},
   "outputs": [],
   "source": [
    "df2.drop('frame.time',axis = 1,inplace = True)"
   ]
  },
  {
   "cell_type": "code",
   "execution_count": 66,
   "metadata": {},
   "outputs": [
    {
     "name": "stdout",
     "output_type": "stream",
     "text": [
      "<class 'pandas.core.frame.DataFrame'>\n",
      "Index: 156981 entries, 0 to 157799\n",
      "Data columns (total 15 columns):\n",
      " #   Column                  Non-Null Count   Dtype \n",
      "---  ------                  --------------   ----- \n",
      " 0   arp.dst.proto_ipv4      156981 non-null  object\n",
      " 1   arp.src.proto_ipv4      156981 non-null  object\n",
      " 2   http.file_data          156981 non-null  object\n",
      " 3   http.request.uri.query  156981 non-null  object\n",
      " 4   http.request.method     156981 non-null  object\n",
      " 5   http.referer            156981 non-null  object\n",
      " 6   http.request.full_uri   156981 non-null  object\n",
      " 7   http.request.version    156981 non-null  object\n",
      " 8   tcp.options             156981 non-null  object\n",
      " 9   tcp.payload             156981 non-null  object\n",
      " 10  tcp.srcport             156981 non-null  object\n",
      " 11  mqtt.conack.flags       156981 non-null  object\n",
      " 12  mqtt.protoname          156981 non-null  object\n",
      " 13  mqtt.topic              156981 non-null  object\n",
      " 14  Attack_type             156981 non-null  object\n",
      "dtypes: object(15)\n",
      "memory usage: 19.2+ MB\n"
     ]
    }
   ],
   "source": [
    "df2.select_dtypes(include=['object']).info()"
   ]
  },
  {
   "cell_type": "code",
   "execution_count": 67,
   "metadata": {},
   "outputs": [
    {
     "data": {
      "text/plain": [
       "http.file_data\n",
       "0.0                                                                                                                                                                                                                                                                                                                                                                                                                                                                                                                                                                                                                                                                                                                                                                                                                                                                                                                                                                                                                                                                                                                                                                                                                                                                                                                                                                                                                                                                                                                                                                                                                                                                                                                                  75061\n",
       "0.0                                                                                                                                                                                                                                                                                                                                                                                                                                                                                                                                                                                                                                                                                                                                                                                                                                                                                                                                                                                                                                                                                                                                                                                                                                                                                                                                                                                                                                                                                                                                                                                                                                                                                                                                  41242\n",
       "0                                                                                                                                                                                                                                                                                                                                                                                                                                                                                                                                                                                                                                                                                                                                                                                                                                                                                                                                                                                                                                                                                                                                                                                                                                                                                                                                                                                                                                                                                                                                                                                                                                                                                                                                    31207\n",
       "<!DOCTYPE HTML PUBLIC \"-//IETF//DTD HTML 2.0//EN\">\\n<html><head>\\n<title>404 Not Found</title>\\n</head><body>\\n<h1>Not Found</h1>\\n<p>The requested URL was not found on this server.</p>\\n<hr>\\n<address>Apache/2.4.38 (Raspbian) Server at 192.168.0.128 Port 80</address>\\n</body></html>\\n                                                                                                                                                                                                                                                                                                                                                                                                                                                                                                                                                                                                                                                                                                                                                                                                                                                                                                                                                                                                                                                                                                                                                                                                                                                                                                                                                                                                                                        4487\n",
       "method=open+service%3a3%2e0%2e2%2e1105&service%5fname=%2f                                                                                                                                                                                                                                                                                                                                                                                                                                                                                                                                                                                                                                                                                                                                                                                                                                                                                                                                                                                                                                                                                                                                                                                                                                                                                                                                                                                                                                                                                                                                                                                                                                                                             1779\n",
       "                                                                                                                                                                                                                                                                                                                                                                                                                                                                                                                                                                                                                                                                                                                                                                                                                                                                                                                                                                                                                                                                                                                                                                                                                                                                                                                                                                                                                                                                                                                                                                                                                                                                                                                                     ...  \n",
       "<!DOCTYPE html>\\r\\n\\r\\n<html lang=\"en-GB\">\\r\\n\\r\\n\\t<head>\\r\\n\\r\\n\\t\\t<meta http-equiv=\"Content-Type\" content=\"text/html; charset=UTF-8\" />\\r\\n\\r\\n\\t\\t<title>Login :: Damn Vulnerable Web Application (DVWA) v1.10 *Development*</title>\\r\\n\\r\\n\\t\\t<link rel=\"stylesheet\" type=\"text/css\" href=\"dvwa/css/login.css\" />\\r\\n\\r\\n\\t</head>\\r\\n\\r\\n\\t<body>\\r\\n\\r\\n\\t<div id=\"wrapper\">\\r\\n\\r\\n\\t<div id=\"header\">\\r\\n\\r\\n\\t<br />\\r\\n\\r\\n\\t<p><img src=\"dvwa/images/login_logo.png\" /></p>\\r\\n\\r\\n\\t<br />\\r\\n\\r\\n\\t</div> <!--<div id=\"header\">-->\\r\\n\\r\\n\\t<div id=\"content\">\\r\\n\\r\\n\\t<form action=\"login.php\" method=\"post\">\\r\\n\\r\\n\\t<fieldset>\\r\\n\\r\\n\\t\\t\\t<label for=\"user\">Username</label> <input type=\"text\" class=\"loginInput\" size=\"20\" name=\"username\"><br />\\r\\n\\r\\n\\r\\n\\t\\t\\t<label for=\"pass\">Password</label> <input type=\"password\" class=\"loginInput\" AUTOCOMPLETE=\"off\" size=\"20\" name=\"password\"><br />\\r\\n\\r\\n\\t\\t\\t<br />\\r\\n\\r\\n\\t\\t\\t<p class=\"submit\"><input type=\"submit\" value=\"Login\" name=\"Login\"></p>\\r\\n\\r\\n\\t</fieldset>\\r\\n\\r\\n\\t<input type='hidden' name='user_token' value='b1d5c7fc6a4e678b1e180844ce88cabd' />\\r\\n\\r\\n\\t</form>\\r\\n\\r\\n\\t<br />\\r\\n\\r\\n\\t\\r\\n\\r\\n\\t<br />\\r\\n\\t<br />\\r\\n\\t<br />\\r\\n\\t<br />\\r\\n\\t<br />\\r\\n\\t<br />\\r\\n\\t<br />\\r\\n\\t<br />\\r\\n\\r\\n\\t<!-- <img src=\"dvwa/images/RandomStorm.png\" /> -->\\r\\n\\t</div > <!--<div id=\"content\">-->\\r\\n\\r\\n\\t<div id=\"footer\">\\r\\n\\r\\n\\t<p><a href=\"https://github.com/digininja/DVWA/\" target=\"_blank\">Damn Vulnerable Web Application (DVWA)</a></p>\\r\\n\\r\\n\\t</div> <!--<div id=\"footer\"> -->\\r\\n\\r\\n\\t</div> <!--<div id=\"wrapper\"> -->\\r\\n\\r\\n\\t</body>\\r\\n\\r\\n</html>                                                          1\n",
       "<!DOCTYPE html>\\r\\n\\r\\n<html lang=\"en-GB\">\\r\\n\\r\\n\\t<head>\\r\\n\\r\\n\\t\\t<meta http-equiv=\"Content-Type\" content=\"text/html; charset=UTF-8\" />\\r\\n\\r\\n\\t\\t<title>Login :: Damn Vulnerable Web Application (DVWA) v1.10 *Development*</title>\\r\\n\\r\\n\\t\\t<link rel=\"stylesheet\" type=\"text/css\" href=\"dvwa/css/login.css\" />\\r\\n\\r\\n\\t</head>\\r\\n\\r\\n\\t<body>\\r\\n\\r\\n\\t<div id=\"wrapper\">\\r\\n\\r\\n\\t<div id=\"header\">\\r\\n\\r\\n\\t<br />\\r\\n\\r\\n\\t<p><img src=\"dvwa/images/login_logo.png\" /></p>\\r\\n\\r\\n\\t<br />\\r\\n\\r\\n\\t</div> <!--<div id=\"header\">-->\\r\\n\\r\\n\\t<div id=\"content\">\\r\\n\\r\\n\\t<form action=\"login.php\" method=\"post\">\\r\\n\\r\\n\\t<fieldset>\\r\\n\\r\\n\\t\\t\\t<label for=\"user\">Username</label> <input type=\"text\" class=\"loginInput\" size=\"20\" name=\"username\"><br />\\r\\n\\r\\n\\r\\n\\t\\t\\t<label for=\"pass\">Password</label> <input type=\"password\" class=\"loginInput\" AUTOCOMPLETE=\"off\" size=\"20\" name=\"password\"><br />\\r\\n\\r\\n\\t\\t\\t<br />\\r\\n\\r\\n\\t\\t\\t<p class=\"submit\"><input type=\"submit\" value=\"Login\" name=\"Login\"></p>\\r\\n\\r\\n\\t</fieldset>\\r\\n\\r\\n\\t<input type='hidden' name='user_token' value='5fb9c524848afe0f9d98e9cc21ee853e' />\\r\\n\\r\\n\\t</form>\\r\\n\\r\\n\\t<br />\\r\\n\\r\\n\\t\\r\\n\\r\\n\\t<br />\\r\\n\\t<br />\\r\\n\\t<br />\\r\\n\\t<br />\\r\\n\\t<br />\\r\\n\\t<br />\\r\\n\\t<br />\\r\\n\\t<br />\\r\\n\\r\\n\\t<!-- <img src=\"dvwa/images/RandomStorm.png\" /> -->\\r\\n\\t</div > <!--<div id=\"content\">-->\\r\\n\\r\\n\\t<div id=\"footer\">\\r\\n\\r\\n\\t<p><a href=\"https://github.com/digininja/DVWA/\" target=\"_blank\">Damn Vulnerable Web Application (DVWA)</a></p>\\r\\n\\r\\n\\t</div> <!--<div id=\"footer\"> -->\\r\\n\\r\\n\\t</div> <!--<div id=\"wrapper\"> -->\\r\\n\\r\\n\\t</body>\\r\\n\\r\\n</html>                                                          1\n",
       "<!DOCTYPE html>\\r\\n\\r\\n<html lang=\"en-GB\">\\r\\n\\r\\n\\t<head>\\r\\n\\r\\n\\t\\t<meta http-equiv=\"Content-Type\" content=\"text/html; charset=UTF-8\" />\\r\\n\\r\\n\\t\\t<title>Login :: Damn Vulnerable Web Application (DVWA) v1.10 *Development*</title>\\r\\n\\r\\n\\t\\t<link rel=\"stylesheet\" type=\"text/css\" href=\"dvwa/css/login.css\" />\\r\\n\\r\\n\\t</head>\\r\\n\\r\\n\\t<body>\\r\\n\\r\\n\\t<div id=\"wrapper\">\\r\\n\\r\\n\\t<div id=\"header\">\\r\\n\\r\\n\\t<br />\\r\\n\\r\\n\\t<p><img src=\"dvwa/images/login_logo.png\" /></p>\\r\\n\\r\\n\\t<br />\\r\\n\\r\\n\\t</div> <!--<div id=\"header\">-->\\r\\n\\r\\n\\t<div id=\"content\">\\r\\n\\r\\n\\t<form action=\"login.php\" method=\"post\">\\r\\n\\r\\n\\t<fieldset>\\r\\n\\r\\n\\t\\t\\t<label for=\"user\">Username</label> <input type=\"text\" class=\"loginInput\" size=\"20\" name=\"username\"><br />\\r\\n\\r\\n\\r\\n\\t\\t\\t<label for=\"pass\">Password</label> <input type=\"password\" class=\"loginInput\" AUTOCOMPLETE=\"off\" size=\"20\" name=\"password\"><br />\\r\\n\\r\\n\\t\\t\\t<br />\\r\\n\\r\\n\\t\\t\\t<p class=\"submit\"><input type=\"submit\" value=\"Login\" name=\"Login\"></p>\\r\\n\\r\\n\\t</fieldset>\\r\\n\\r\\n\\t<input type='hidden' name='user_token' value='10174da5e4341876ed91e4a94ec708d3' />\\r\\n\\r\\n\\t</form>\\r\\n\\r\\n\\t<br />\\r\\n\\r\\n\\t<div class=\"message\">CSRF token is incorrect</div>\\r\\n\\r\\n\\t<br />\\r\\n\\t<br />\\r\\n\\t<br />\\r\\n\\t<br />\\r\\n\\t<br />\\r\\n\\t<br />\\r\\n\\t<br />\\r\\n\\t<br />\\r\\n\\r\\n\\t<!-- <img src=\"dvwa/images/RandomStorm.png\" /> -->\\r\\n\\t</div > <!--<div id=\"content\">-->\\r\\n\\r\\n\\t<div id=\"footer\">\\r\\n\\r\\n\\t<p><a href=\"https://github.com/digininja/DVWA/\" target=\"_blank\">Damn Vulnerable Web Application (DVWA)</a></p>\\r\\n\\r\\n\\t</div> <!--<div id=\"footer\"> -->\\r\\n\\r\\n\\t</div> <!--<div id=\"wrapper\"> -->\\r\\n\\r\\n\\t</body>\\r\\n\\r\\n</html>        1\n",
       "<!DOCTYPE html>\\r\\n\\r\\n<html lang=\"en-GB\">\\r\\n\\r\\n\\t<head>\\r\\n\\r\\n\\t\\t<meta http-equiv=\"Content-Type\" content=\"text/html; charset=UTF-8\" />\\r\\n\\r\\n\\t\\t<title>Login :: Damn Vulnerable Web Application (DVWA) v1.10 *Development*</title>\\r\\n\\r\\n\\t\\t<link rel=\"stylesheet\" type=\"text/css\" href=\"dvwa/css/login.css\" />\\r\\n\\r\\n\\t</head>\\r\\n\\r\\n\\t<body>\\r\\n\\r\\n\\t<div id=\"wrapper\">\\r\\n\\r\\n\\t<div id=\"header\">\\r\\n\\r\\n\\t<br />\\r\\n\\r\\n\\t<p><img src=\"dvwa/images/login_logo.png\" /></p>\\r\\n\\r\\n\\t<br />\\r\\n\\r\\n\\t</div> <!--<div id=\"header\">-->\\r\\n\\r\\n\\t<div id=\"content\">\\r\\n\\r\\n\\t<form action=\"login.php\" method=\"post\">\\r\\n\\r\\n\\t<fieldset>\\r\\n\\r\\n\\t\\t\\t<label for=\"user\">Username</label> <input type=\"text\" class=\"loginInput\" size=\"20\" name=\"username\"><br />\\r\\n\\r\\n\\r\\n\\t\\t\\t<label for=\"pass\">Password</label> <input type=\"password\" class=\"loginInput\" AUTOCOMPLETE=\"off\" size=\"20\" name=\"password\"><br />\\r\\n\\r\\n\\t\\t\\t<br />\\r\\n\\r\\n\\t\\t\\t<p class=\"submit\"><input type=\"submit\" value=\"Login\" name=\"Login\"></p>\\r\\n\\r\\n\\t</fieldset>\\r\\n\\r\\n\\t<input type='hidden' name='user_token' value='10d1f5842b4e677f678972968bb88028' />\\r\\n\\r\\n\\t</form>\\r\\n\\r\\n\\t<br />\\r\\n\\r\\n\\t\\r\\n\\r\\n\\t<br />\\r\\n\\t<br />\\r\\n\\t<br />\\r\\n\\t<br />\\r\\n\\t<br />\\r\\n\\t<br />\\r\\n\\t<br />\\r\\n\\t<br />\\r\\n\\r\\n\\t<!-- <img src=\"dvwa/images/RandomStorm.png\" /> -->\\r\\n\\t</div > <!--<div id=\"content\">-->\\r\\n\\r\\n\\t<div id=\"footer\">\\r\\n\\r\\n\\t<p><a href=\"https://github.com/digininja/DVWA/\" target=\"_blank\">Damn Vulnerable Web Application (DVWA)</a></p>\\r\\n\\r\\n\\t</div> <!--<div id=\"footer\"> -->\\r\\n\\r\\n\\t</div> <!--<div id=\"wrapper\"> -->\\r\\n\\r\\n\\t</body>\\r\\n\\r\\n</html>                                                          1\n",
       "DEBUG /DVWA/ HTTP/1.1\\r\\nUser-Agent: Mozilla/5.00 (Nikto/2.1.6) (Evasions:None) (Test:httpoptions: DEBUG)\\r\\nHost: 192.168.0.128\\r\\nConnection: Keep-Alive\\r\\n\\r\\n                                                                                                                                                                                                                                                                                                                                                                                                                                                                                                                                                                                                                                                                                                                                                                                                                                                                                                                                                                                                                                                                                                                                                                                                                                                                                                                                                                                                                                                                                                                                                                       1\n",
       "Name: count, Length: 497, dtype: int64"
      ]
     },
     "execution_count": 67,
     "metadata": {},
     "output_type": "execute_result"
    }
   ],
   "source": [
    "df2['http.file_data'].value_counts()"
   ]
  },
  {
   "cell_type": "markdown",
   "metadata": {},
   "source": [
    "*cột http.file_data chứa nhiều dữ liệu dạng text*"
   ]
  },
  {
   "cell_type": "code",
   "execution_count": 68,
   "metadata": {},
   "outputs": [],
   "source": [
    "df2.drop('http.file_data', axis = 1, inplace = True)"
   ]
  },
  {
   "cell_type": "code",
   "execution_count": 69,
   "metadata": {},
   "outputs": [
    {
     "data": {
      "text/plain": [
       "tcp.srcport\n",
       "80.0      33569\n",
       "0.0       17641\n",
       "1883.0    10075\n",
       "4321.0     4864\n",
       "4321.0     4796\n",
       "          ...  \n",
       "7815.0        1\n",
       "7814.0        1\n",
       "7808.0        1\n",
       "7804.0        1\n",
       "3922.0        1\n",
       "Name: count, Length: 33551, dtype: int64"
      ]
     },
     "execution_count": 69,
     "metadata": {},
     "output_type": "execute_result"
    }
   ],
   "source": [
    "df2['tcp.srcport'].value_counts()"
   ]
  },
  {
   "cell_type": "code",
   "execution_count": 70,
   "metadata": {},
   "outputs": [
    {
     "data": {
      "text/plain": [
       "array(['0', 'DESKTOP-UHF0SF2', 'DESKTOP-UHF0SF2.local', ..., 63006.0,\n",
       "       3416.0, 3922.0], dtype=object)"
      ]
     },
     "execution_count": 70,
     "metadata": {},
     "output_type": "execute_result"
    }
   ],
   "source": [
    "df2['tcp.srcport'].unique()"
   ]
  },
  {
   "cell_type": "markdown",
   "metadata": {},
   "source": [
    "**Có khoảng 367 giá trị '_googlecast._tcp.local', 'DESKTOP-UHF0SF2', 'DESKTOP-UHF0SF2.local' => có thể drop**"
   ]
  },
  {
   "cell_type": "code",
   "execution_count": 71,
   "metadata": {},
   "outputs": [
    {
     "data": {
      "text/plain": [
       "http.request.uri.query\n",
       "0.0                                                                                                                                      91445\n",
       "0.0                                                                                                                                      45149\n",
       "0                                                                                                                                        17636\n",
       "path_prefix=http://cirt.net/rfiinc.txt?                                                                                                     69\n",
       "Command=GetFolders&Type=File&CurrentFolder=%2F                                                                                              49\n",
       "                                                                                                                                         ...  \n",
       "id=9%27%29%20ORDER%20BY%201--%20myYC&Submit=Submitid=59                                                                                      1\n",
       "id=9%20ORDER%20BY%206053--%20jfQX&Submit=Submitid=59                                                                                         1\n",
       "id=9%27%20WAITFOR%20DELAY%20%270%3A0%3A5%27%20AND%20%27bjdm%27%3D%27bjdm&Submit=Submitid=59                                                  1\n",
       "id=9%27%29%20AND%20%28SELECT%201909%20FROM%20%28SELECT%28SLEEP%285%29%29%29ljoo%29%20AND%20%28%27lqvv%27%3D%27lqvv&Submit=Submitid=59        1\n",
       "Codebase=http://cirt.net/rfiinc.txt?                                                                                                         1\n",
       "Name: count, Length: 1666, dtype: int64"
      ]
     },
     "execution_count": 71,
     "metadata": {},
     "output_type": "execute_result"
    }
   ],
   "source": [
    "df2['http.request.uri.query'].value_counts()"
   ]
  },
  {
   "cell_type": "code",
   "execution_count": 72,
   "metadata": {},
   "outputs": [],
   "source": [
    "df2.drop('http.request.uri.query', axis = 1, inplace = True)"
   ]
  },
  {
   "cell_type": "markdown",
   "metadata": {},
   "source": [
    "**http.request.uri.query cũng chứa dữ liệu dạng text**"
   ]
  },
  {
   "cell_type": "code",
   "execution_count": 73,
   "metadata": {},
   "outputs": [
    {
     "data": {
      "text/plain": [
       "tcp.options\n",
       "0                           27399\n",
       "0.0                         26728\n",
       "0.0                         23181\n",
       "020405b40101040201030307     1325\n",
       "020405b40103030801010402     1171\n",
       "                            ...  \n",
       "0101080a9eb1b1739b241e8f        1\n",
       "0101080a9b241e8a9eb1b16a        1\n",
       "0101080a9eb1b17a9b241e8f        1\n",
       "0101080a9b241ead9eb1b174        1\n",
       "0101080ae76b014c7adff520        1\n",
       "Name: count, Length: 73140, dtype: int64"
      ]
     },
     "execution_count": 73,
     "metadata": {},
     "output_type": "execute_result"
    }
   ],
   "source": [
    "df2['tcp.options'].value_counts()"
   ]
  },
  {
   "cell_type": "code",
   "execution_count": 74,
   "metadata": {},
   "outputs": [],
   "source": [
    "df2.drop('tcp.options', axis = 1, inplace = True)"
   ]
  },
  {
   "cell_type": "markdown",
   "metadata": {},
   "source": [
    "**cột tcp.options : các tùy chọn trong gói tin tcp có chứa dữ liệu dạng text**"
   ]
  },
  {
   "cell_type": "code",
   "execution_count": 75,
   "metadata": {},
   "outputs": [
    {
     "data": {
      "text/plain": [
       "tcp.payload\n",
       "0                                                                                                                                                                                                                                                                                                                                                                                                                                                                                                                                                                                                                                                                                                                                                                                                                                                                                                                                                                                                                                 75013\n",
       "0.0                                                                                                                                                                                                                                                                                                                                                                                                                                                                                                                                                                                                                                                                                                                                                                                                                                                                                                                                                                                                                               26728\n",
       "0.0                                                                                                                                                                                                                                                                                                                                                                                                                                                                                                                                                                                                                                                                                                                                                                                                                                                                                                                                                                                                                               12934\n",
       "585858585858585858585858585858585858585858585858585858585858585858585858585858585858585858585858585858585858585858585858585858585858585858585858585858585858585858585858585858585858585858585858585858585858585858585858585858585858585858585858                                                                                                                                                                                                                                                                                                                                                                                                                                                                                                                                                                                                                                                                                                                                                                                   6009\n",
       "20020000                                                                                                                                                                                                                                                                                                                                                                                                                                                                                                                                                                                                                                                                                                                                                                                                                                                                                                                                                                                                                           1290\n",
       "                                                                                                                                                                                                                                                                                                                                                                                                                                                                                                                                                                                                                                                                                                                                                                                                                                                                                                                                                                                                                                  ...  \n",
       "582d516e317a555a445a69753a2063486f77384d0d0a                                                                                                                                                                                                                                                                                                                                                                                                                                                                                                                                                                                                                                                                                                                                                                                                                                                                                                                                                                                          1\n",
       "582d4d59344842385761434e6241754b766677593a206a0d0a                                                                                                                                                                                                                                                                                                                                                                                                                                                                                                                                                                                                                                                                                                                                                                                                                                                                                                                                                                                    1\n",
       "582d34756d54537052354b357469776e6254684c4e4b3a203644626f69686b7734736f6f553737374f32484a0d0a                                                                                                                                                                                                                                                                                                                                                                                                                                                                                                                                                                                                                                                                                                                                                                                                                                                                                                                                          1\n",
       "582d65734e323a20476a73417a58764f315262396d754f76564f71580d0a                                                                                                                                                                                                                                                                                                                                                                                                                                                                                                                                                                                                                                                                                                                                                                                                                                                                                                                                                                          1\n",
       "485454502f312e3120343034204e6f7420466f756e640d0a446174653a204d6f6e2c2030362044656320323032312031383a33323a333520474d540d0a5365727665723a204170616368652f322e342e33382028526173706269616e290d0a436f6e74656e742d4c656e6774683a203237370d0a4b6565702d416c6976653a2074696d656f75743d352c206d61783d35370d0a436f6e6e656374696f6e3a204b6565702d416c6976650d0a436f6e74656e742d547970653a20746578742f68746d6c3b20636861727365743d69736f2d383835392d310d0a0d0a3c21444f43545950452048544d4c205055424c494320222d2f2f494554462f2f4454442048544d4c20322e302f2f454e223e0a3c68746d6c3e3c686561643e0a3c7469746c653e343034204e6f7420466f756e643c2f7469746c653e0a3c2f686561643e3c626f64793e0a3c68313e4e6f7420466f756e643c2f68313e0a3c703e546865207265717565737465642055524c20776173206e6f7420666f756e64206f6e2074686973207365727665722e3c2f703e0a3c68723e0a3c616464726573733e4170616368652f322e342e33382028526173706269616e2920536572766572206174203139322e3136382e302e31323820506f72742038303c2f616464726573733e0a3c2f626f64793e3c2f68746d6c3e0a        1\n",
       "Name: count, Length: 27370, dtype: int64"
      ]
     },
     "execution_count": 75,
     "metadata": {},
     "output_type": "execute_result"
    }
   ],
   "source": [
    "df2['tcp.payload'].value_counts()"
   ]
  },
  {
   "cell_type": "code",
   "execution_count": 76,
   "metadata": {},
   "outputs": [],
   "source": [
    "df2.drop('tcp.payload', axis = 1, inplace = True)"
   ]
  },
  {
   "cell_type": "markdown",
   "metadata": {},
   "source": [
    "**cột tcp.payload có nhiều dữ liệu dạng text chưa xưr lý được**"
   ]
  },
  {
   "cell_type": "code",
   "execution_count": 77,
   "metadata": {},
   "outputs": [
    {
     "data": {
      "text/plain": [
       "http.request.full_uri\n",
       "0                                                                                                                                                                     54084\n",
       "0.0                                                                                                                                                                   52611\n",
       "0.0                                                                                                                                                                   43112\n",
       "http://192.168.0.128/dvwa/vulnerabilities/                                                                                                                              866\n",
       "http://192.168.0.128/DVWA/login.php                                                                                                                                     678\n",
       "                                                                                                                                                                      ...  \n",
       "http://192.168.0.128/DVWA/forum1_professionnel.asp?n=1771&amp;nn=100&amp;page=../../../../../../../../../etc/passwd%00                                                    1\n",
       "http://192.168.0.128/DVWA/forum_arc.asp?n=/....../boot.ini|36|80040e14|[Microsoft][ODBC_SQL_Server_Driver][SQL_Server]Line_1:_Incorrect_syntax_near_&#039;/&#039;.        1\n",
       "http://192.168.0.128/DVWA/globals.pl                                                                                                                                      1\n",
       "http://192.168.0.128/DVWA/helperfunction.php?includedir=http://cirt.net/rfiinc.txt?                                                                                       1\n",
       "http://192.168.0.128/DVWA/_blogadata/include/struct_admin.php?incl_page=http://cirt.net/rfiinc.txt??                                                                      1\n",
       "Name: count, Length: 4074, dtype: int64"
      ]
     },
     "execution_count": 77,
     "metadata": {},
     "output_type": "execute_result"
    }
   ],
   "source": [
    "df2['http.request.full_uri'].value_counts()"
   ]
  },
  {
   "cell_type": "code",
   "execution_count": 78,
   "metadata": {},
   "outputs": [],
   "source": [
    "df2.drop('http.request.full_uri',axis = 1, inplace = True)"
   ]
  },
  {
   "cell_type": "markdown",
   "metadata": {},
   "source": [
    "**cột http.request.full_uri có nhiều dữ liệu dangj text chưa xử lý được**"
   ]
  },
  {
   "cell_type": "markdown",
   "metadata": {},
   "source": [
    "### Encode"
   ]
  },
  {
   "cell_type": "code",
   "execution_count": 79,
   "metadata": {},
   "outputs": [],
   "source": [
    "df3 = df2.copy()"
   ]
  },
  {
   "cell_type": "code",
   "execution_count": 80,
   "metadata": {},
   "outputs": [
    {
     "data": {
      "text/plain": [
       "arp.dst.proto_ipv4             0\n",
       "arp.opcode                     0\n",
       "arp.hw.size                    0\n",
       "arp.src.proto_ipv4             0\n",
       "icmp.checksum                  0\n",
       "icmp.seq_le                    0\n",
       "icmp.transmit_timestamp        0\n",
       "icmp.unused                    0\n",
       "http.request.method            0\n",
       "http.referer                   0\n",
       "http.request.version           0\n",
       "http.response                  0\n",
       "http.tls_port                  0\n",
       "tcp.ack                        0\n",
       "tcp.ack_raw                    0\n",
       "tcp.checksum                   0\n",
       "tcp.connection.fin             0\n",
       "tcp.connection.rst             0\n",
       "tcp.connection.syn             0\n",
       "tcp.connection.synack          0\n",
       "tcp.dstport                    0\n",
       "tcp.flags                      0\n",
       "tcp.flags.ack                  0\n",
       "tcp.len                        0\n",
       "tcp.seq                        0\n",
       "tcp.srcport                  367\n",
       "udp.port                       0\n",
       "udp.stream                     0\n",
       "udp.time_delta                 0\n",
       "dns.qry.name                   0\n",
       "dns.qry.qu                     0\n",
       "dns.qry.type                   0\n",
       "dns.retransmission             0\n",
       "dns.retransmit_request         0\n",
       "dns.retransmit_request_in      0\n",
       "mqtt.conack.flags              0\n",
       "mqtt.conflag.cleansess         0\n",
       "mqtt.conflags                  0\n",
       "mqtt.hdrflags                  0\n",
       "mqtt.msg_decoded_as            0\n",
       "mqtt.msgtype                   0\n",
       "mqtt.protoname                 0\n",
       "mqtt.topic                     0\n",
       "mqtt.ver                       0\n",
       "mbtcp.len                      0\n",
       "mbtcp.trans_id                 0\n",
       "mbtcp.unit_id                  0\n",
       "Attack_label                   0\n",
       "Attack_type                    0\n",
       "dtype: int64"
      ]
     },
     "execution_count": 80,
     "metadata": {},
     "output_type": "execute_result"
    }
   ],
   "source": [
    "# Danh sách các giá trị cần loại bỏ\n",
    "invalid_values = ['_googlecast._tcp.local', 'DESKTOP-UHF0SF2', 'DESKTOP-UHF0SF2.local']\n",
    "\n",
    "# Lọc các giá trị không hợp lệ\n",
    "df3['tcp.srcport'] = df3['tcp.srcport'].replace(invalid_values, np.nan)\n",
    "df3.isnull().sum()"
   ]
  },
  {
   "cell_type": "markdown",
   "metadata": {},
   "source": [
    "**chuyển '_googlecast._tcp.local', 'DESKTOP-UHF0SF2', 'DESKTOP-UHF0SF2.local' thành nan và drop nan**"
   ]
  },
  {
   "cell_type": "code",
   "execution_count": 81,
   "metadata": {},
   "outputs": [
    {
     "data": {
      "text/plain": [
       "0           0\n",
       "8           0\n",
       "29          0\n",
       "84          0\n",
       "153         0\n",
       "         ... \n",
       "157795    0.0\n",
       "157796    0.0\n",
       "157797    0.0\n",
       "157798    0.0\n",
       "157799    0.0\n",
       "Name: tcp.srcport, Length: 156614, dtype: object"
      ]
     },
     "execution_count": 81,
     "metadata": {},
     "output_type": "execute_result"
    }
   ],
   "source": [
    "df3['tcp.srcport'].dropna()"
   ]
  },
  {
   "cell_type": "code",
   "execution_count": 82,
   "metadata": {},
   "outputs": [],
   "source": [
    "df3.dropna(subset=['tcp.srcport'], inplace=True)"
   ]
  },
  {
   "cell_type": "code",
   "execution_count": 83,
   "metadata": {},
   "outputs": [
    {
     "data": {
      "text/plain": [
       "arp.dst.proto_ipv4           0\n",
       "arp.opcode                   0\n",
       "arp.hw.size                  0\n",
       "arp.src.proto_ipv4           0\n",
       "icmp.checksum                0\n",
       "icmp.seq_le                  0\n",
       "icmp.transmit_timestamp      0\n",
       "icmp.unused                  0\n",
       "http.request.method          0\n",
       "http.referer                 0\n",
       "http.request.version         0\n",
       "http.response                0\n",
       "http.tls_port                0\n",
       "tcp.ack                      0\n",
       "tcp.ack_raw                  0\n",
       "tcp.checksum                 0\n",
       "tcp.connection.fin           0\n",
       "tcp.connection.rst           0\n",
       "tcp.connection.syn           0\n",
       "tcp.connection.synack        0\n",
       "tcp.dstport                  0\n",
       "tcp.flags                    0\n",
       "tcp.flags.ack                0\n",
       "tcp.len                      0\n",
       "tcp.seq                      0\n",
       "tcp.srcport                  0\n",
       "udp.port                     0\n",
       "udp.stream                   0\n",
       "udp.time_delta               0\n",
       "dns.qry.name                 0\n",
       "dns.qry.qu                   0\n",
       "dns.qry.type                 0\n",
       "dns.retransmission           0\n",
       "dns.retransmit_request       0\n",
       "dns.retransmit_request_in    0\n",
       "mqtt.conack.flags            0\n",
       "mqtt.conflag.cleansess       0\n",
       "mqtt.conflags                0\n",
       "mqtt.hdrflags                0\n",
       "mqtt.msg_decoded_as          0\n",
       "mqtt.msgtype                 0\n",
       "mqtt.protoname               0\n",
       "mqtt.topic                   0\n",
       "mqtt.ver                     0\n",
       "mbtcp.len                    0\n",
       "mbtcp.trans_id               0\n",
       "mbtcp.unit_id                0\n",
       "Attack_label                 0\n",
       "Attack_type                  0\n",
       "dtype: int64"
      ]
     },
     "execution_count": 83,
     "metadata": {},
     "output_type": "execute_result"
    }
   ],
   "source": [
    "df3.isna().sum()"
   ]
  },
  {
   "cell_type": "code",
   "execution_count": 84,
   "metadata": {},
   "outputs": [],
   "source": [
    "df3['tcp.srcport'] = df3['tcp.srcport'].astype('float64')"
   ]
  },
  {
   "cell_type": "markdown",
   "metadata": {},
   "source": [
    "**gán dữ liệu cột tcp.srcport thành float64**"
   ]
  },
  {
   "cell_type": "code",
   "execution_count": 85,
   "metadata": {},
   "outputs": [
    {
     "name": "stdout",
     "output_type": "stream",
     "text": [
      "float64\n"
     ]
    }
   ],
   "source": [
    "print(df3['tcp.srcport'].dtype)  # Kiểm tra kiểu dữ liệu"
   ]
  },
  {
   "cell_type": "code",
   "execution_count": 86,
   "metadata": {},
   "outputs": [],
   "source": [
    "from sklearn.preprocessing import LabelEncoder, OneHotEncoder\n",
    "LE = LabelEncoder()\n",
    "df3['Attack_type'] = LE.fit_transform(df3['Attack_type'])"
   ]
  },
  {
   "cell_type": "code",
   "execution_count": 87,
   "metadata": {},
   "outputs": [
    {
     "name": "stdout",
     "output_type": "stream",
     "text": [
      "<class 'pandas.core.frame.DataFrame'>\n",
      "Index: 156614 entries, 0 to 157799\n",
      "Data columns (total 8 columns):\n",
      " #   Column                Non-Null Count   Dtype \n",
      "---  ------                --------------   ----- \n",
      " 0   arp.dst.proto_ipv4    156614 non-null  object\n",
      " 1   arp.src.proto_ipv4    156614 non-null  object\n",
      " 2   http.request.method   156614 non-null  object\n",
      " 3   http.referer          156614 non-null  object\n",
      " 4   http.request.version  156614 non-null  object\n",
      " 5   mqtt.conack.flags     156614 non-null  object\n",
      " 6   mqtt.protoname        156614 non-null  object\n",
      " 7   mqtt.topic            156614 non-null  object\n",
      "dtypes: object(8)\n",
      "memory usage: 10.8+ MB\n"
     ]
    }
   ],
   "source": [
    "df3.select_dtypes(include=['object']).info()"
   ]
  },
  {
   "cell_type": "code",
   "execution_count": 88,
   "metadata": {},
   "outputs": [],
   "source": [
    "Columns = ['arp.dst.proto_ipv4', 'arp.src.proto_ipv4','http.request.method','http.referer', 'http.request.version', 'mqtt.conack.flags', \n",
    "           'mqtt.protoname', 'mqtt.topic']\n",
    "mapping = list()\n",
    "for column in Columns:\n",
    "    df3[column] = df3[column].astype('str')\n",
    "    df3[column] = LE.fit_transform(df3[column])\n",
    "    mappings_dict = {index: label for index, label in enumerate(LE.classes_)}\n",
    "    mapping.append(mappings_dict)"
   ]
  },
  {
   "cell_type": "markdown",
   "metadata": {},
   "source": [
    "**Mã hóa 'arp.dst.proto_ipv4', 'arp.src.proto_ipv4','http.request.method','http.referer', 'http.request.version', 'mqtt.conack.flags', 'mqtt.protoname', 'mqtt.topic' theo label encoder**"
   ]
  },
  {
   "cell_type": "code",
   "execution_count": 89,
   "metadata": {},
   "outputs": [
    {
     "data": {
      "text/plain": [
       "[{0: '0',\n",
       "  1: '0.0',\n",
       "  2: '192.168.0.1',\n",
       "  3: '192.168.0.101',\n",
       "  4: '192.168.0.128',\n",
       "  5: '192.168.0.129',\n",
       "  6: '192.168.0.147',\n",
       "  7: '192.168.0.170'},\n",
       " {0: '0',\n",
       "  1: '0.0',\n",
       "  2: '0.0.0.0',\n",
       "  3: '192.168.0.1',\n",
       "  4: '192.168.0.101',\n",
       "  5: '192.168.0.128',\n",
       "  6: '192.168.0.129',\n",
       "  7: '192.168.0.170'},\n",
       " {0: '0', 1: '0.0', 2: 'GET', 3: 'OPTIONS', 4: 'POST', 5: 'TRACE'},\n",
       " {0: '() { _; } >_[$($())] { echo 93e4r0-CVE-2014-6278: true; echo;echo; }',\n",
       "  1: '0',\n",
       "  2: '0.0',\n",
       "  3: '127.0.0.1'},\n",
       " {0: '-a HTTP/1.1',\n",
       "  1: '/etc/passwd|?data=Download HTTP/1.1',\n",
       "  2: '0',\n",
       "  3: '0.0',\n",
       "  4: 'By Dr HTTP/1.1',\n",
       "  5: 'HTTP/1.0',\n",
       "  6: 'HTTP/1.1',\n",
       "  7: 'Src=javascript:alert(\\'Vulnerable\\')><Img Src=\\\\\" HTTP/1.1'},\n",
       " {0: '0', 1: '0.0', 2: '0x00000000'},\n",
       " {0: '0', 1: '0.0', 2: 'MQTT'},\n",
       " {0: '0', 1: '0.0', 2: 'Temperature_and_Humidity'}]"
      ]
     },
     "execution_count": 89,
     "metadata": {},
     "output_type": "execute_result"
    }
   ],
   "source": [
    "mapping"
   ]
  },
  {
   "cell_type": "code",
   "execution_count": 90,
   "metadata": {},
   "outputs": [],
   "source": [
    "from sklearn.tree import DecisionTreeClassifier\n",
    "from sklearn.model_selection import train_test_split\n",
    "from sklearn.metrics import f1_score, precision_score, recall_score, classification_report, accuracy_score"
   ]
  },
  {
   "cell_type": "markdown",
   "metadata": {},
   "source": [
    "### Chia dữ liệu\n"
   ]
  },
  {
   "cell_type": "code",
   "execution_count": 91,
   "metadata": {},
   "outputs": [],
   "source": [
    "X = df3.iloc[:, 0:47]\n",
    "y =  df3['Attack_type']"
   ]
  },
  {
   "cell_type": "code",
   "execution_count": 92,
   "metadata": {},
   "outputs": [],
   "source": [
    "X_train, X_test, y_train, y_test = train_test_split(X,y,test_size=0.2,random_state=42)"
   ]
  },
  {
   "cell_type": "code",
   "execution_count": 93,
   "metadata": {},
   "outputs": [
    {
     "name": "stdout",
     "output_type": "stream",
     "text": [
      "(125291,)\n"
     ]
    }
   ],
   "source": [
    "print(y_train.shape)"
   ]
  },
  {
   "cell_type": "code",
   "execution_count": 94,
   "metadata": {},
   "outputs": [
    {
     "name": "stdout",
     "output_type": "stream",
     "text": [
      "(125291, 47)\n"
     ]
    }
   ],
   "source": [
    "print(X_train.shape)"
   ]
  },
  {
   "cell_type": "markdown",
   "metadata": {},
   "source": [
    "### Đánh giá mô hình\n"
   ]
  },
  {
   "cell_type": "markdown",
   "metadata": {},
   "source": [
    "**scale dữ liệu**"
   ]
  },
  {
   "cell_type": "code",
   "execution_count": 95,
   "metadata": {},
   "outputs": [],
   "source": [
    "from sklearn.preprocessing import StandardScaler\n",
    "Ro_scaler = StandardScaler()\n",
    "X_train = Ro_scaler.fit_transform(X_train) \n",
    "X_test= Ro_scaler.transform(X_test)"
   ]
  },
  {
   "cell_type": "code",
   "execution_count": 96,
   "metadata": {},
   "outputs": [
    {
     "data": {
      "text/plain": [
       "((125291, 47), (125291,))"
      ]
     },
     "execution_count": 96,
     "metadata": {},
     "output_type": "execute_result"
    }
   ],
   "source": [
    "X_train.shape, y_train.shape"
   ]
  },
  {
   "cell_type": "code",
   "execution_count": 99,
   "metadata": {},
   "outputs": [],
   "source": [
    "data_train = np.concatenate((X_train, np.array(y_train).reshape(y_train.shape[0], 1)), axis = 1)\n",
    "data_test = np.concatenate((X_test, np.array(y_test).reshape(y_test.shape[0], 1)), axis = 1)"
   ]
  },
  {
   "cell_type": "code",
   "execution_count": 100,
   "metadata": {},
   "outputs": [],
   "source": [
    "np.save('train_data.npy',data_train)\n",
    "np.save('test_data.npy',data_test)"
   ]
  },
  {
   "cell_type": "markdown",
   "metadata": {},
   "source": [
    "**Mô hình Decision Tree**"
   ]
  },
  {
   "cell_type": "code",
   "execution_count": 106,
   "metadata": {},
   "outputs": [
    {
     "data": {
      "text/html": [
       "<style>#sk-container-id-2 {\n",
       "  /* Definition of color scheme common for light and dark mode */\n",
       "  --sklearn-color-text: black;\n",
       "  --sklearn-color-line: gray;\n",
       "  /* Definition of color scheme for unfitted estimators */\n",
       "  --sklearn-color-unfitted-level-0: #fff5e6;\n",
       "  --sklearn-color-unfitted-level-1: #f6e4d2;\n",
       "  --sklearn-color-unfitted-level-2: #ffe0b3;\n",
       "  --sklearn-color-unfitted-level-3: chocolate;\n",
       "  /* Definition of color scheme for fitted estimators */\n",
       "  --sklearn-color-fitted-level-0: #f0f8ff;\n",
       "  --sklearn-color-fitted-level-1: #d4ebff;\n",
       "  --sklearn-color-fitted-level-2: #b3dbfd;\n",
       "  --sklearn-color-fitted-level-3: cornflowerblue;\n",
       "\n",
       "  /* Specific color for light theme */\n",
       "  --sklearn-color-text-on-default-background: var(--sg-text-color, var(--theme-code-foreground, var(--jp-content-font-color1, black)));\n",
       "  --sklearn-color-background: var(--sg-background-color, var(--theme-background, var(--jp-layout-color0, white)));\n",
       "  --sklearn-color-border-box: var(--sg-text-color, var(--theme-code-foreground, var(--jp-content-font-color1, black)));\n",
       "  --sklearn-color-icon: #696969;\n",
       "\n",
       "  @media (prefers-color-scheme: dark) {\n",
       "    /* Redefinition of color scheme for dark theme */\n",
       "    --sklearn-color-text-on-default-background: var(--sg-text-color, var(--theme-code-foreground, var(--jp-content-font-color1, white)));\n",
       "    --sklearn-color-background: var(--sg-background-color, var(--theme-background, var(--jp-layout-color0, #111)));\n",
       "    --sklearn-color-border-box: var(--sg-text-color, var(--theme-code-foreground, var(--jp-content-font-color1, white)));\n",
       "    --sklearn-color-icon: #878787;\n",
       "  }\n",
       "}\n",
       "\n",
       "#sk-container-id-2 {\n",
       "  color: var(--sklearn-color-text);\n",
       "}\n",
       "\n",
       "#sk-container-id-2 pre {\n",
       "  padding: 0;\n",
       "}\n",
       "\n",
       "#sk-container-id-2 input.sk-hidden--visually {\n",
       "  border: 0;\n",
       "  clip: rect(1px 1px 1px 1px);\n",
       "  clip: rect(1px, 1px, 1px, 1px);\n",
       "  height: 1px;\n",
       "  margin: -1px;\n",
       "  overflow: hidden;\n",
       "  padding: 0;\n",
       "  position: absolute;\n",
       "  width: 1px;\n",
       "}\n",
       "\n",
       "#sk-container-id-2 div.sk-dashed-wrapped {\n",
       "  border: 1px dashed var(--sklearn-color-line);\n",
       "  margin: 0 0.4em 0.5em 0.4em;\n",
       "  box-sizing: border-box;\n",
       "  padding-bottom: 0.4em;\n",
       "  background-color: var(--sklearn-color-background);\n",
       "}\n",
       "\n",
       "#sk-container-id-2 div.sk-container {\n",
       "  /* jupyter's `normalize.less` sets `[hidden] { display: none; }`\n",
       "     but bootstrap.min.css set `[hidden] { display: none !important; }`\n",
       "     so we also need the `!important` here to be able to override the\n",
       "     default hidden behavior on the sphinx rendered scikit-learn.org.\n",
       "     See: https://github.com/scikit-learn/scikit-learn/issues/21755 */\n",
       "  display: inline-block !important;\n",
       "  position: relative;\n",
       "}\n",
       "\n",
       "#sk-container-id-2 div.sk-text-repr-fallback {\n",
       "  display: none;\n",
       "}\n",
       "\n",
       "div.sk-parallel-item,\n",
       "div.sk-serial,\n",
       "div.sk-item {\n",
       "  /* draw centered vertical line to link estimators */\n",
       "  background-image: linear-gradient(var(--sklearn-color-text-on-default-background), var(--sklearn-color-text-on-default-background));\n",
       "  background-size: 2px 100%;\n",
       "  background-repeat: no-repeat;\n",
       "  background-position: center center;\n",
       "}\n",
       "\n",
       "/* Parallel-specific style estimator block */\n",
       "\n",
       "#sk-container-id-2 div.sk-parallel-item::after {\n",
       "  content: \"\";\n",
       "  width: 100%;\n",
       "  border-bottom: 2px solid var(--sklearn-color-text-on-default-background);\n",
       "  flex-grow: 1;\n",
       "}\n",
       "\n",
       "#sk-container-id-2 div.sk-parallel {\n",
       "  display: flex;\n",
       "  align-items: stretch;\n",
       "  justify-content: center;\n",
       "  background-color: var(--sklearn-color-background);\n",
       "  position: relative;\n",
       "}\n",
       "\n",
       "#sk-container-id-2 div.sk-parallel-item {\n",
       "  display: flex;\n",
       "  flex-direction: column;\n",
       "}\n",
       "\n",
       "#sk-container-id-2 div.sk-parallel-item:first-child::after {\n",
       "  align-self: flex-end;\n",
       "  width: 50%;\n",
       "}\n",
       "\n",
       "#sk-container-id-2 div.sk-parallel-item:last-child::after {\n",
       "  align-self: flex-start;\n",
       "  width: 50%;\n",
       "}\n",
       "\n",
       "#sk-container-id-2 div.sk-parallel-item:only-child::after {\n",
       "  width: 0;\n",
       "}\n",
       "\n",
       "/* Serial-specific style estimator block */\n",
       "\n",
       "#sk-container-id-2 div.sk-serial {\n",
       "  display: flex;\n",
       "  flex-direction: column;\n",
       "  align-items: center;\n",
       "  background-color: var(--sklearn-color-background);\n",
       "  padding-right: 1em;\n",
       "  padding-left: 1em;\n",
       "}\n",
       "\n",
       "\n",
       "/* Toggleable style: style used for estimator/Pipeline/ColumnTransformer box that is\n",
       "clickable and can be expanded/collapsed.\n",
       "- Pipeline and ColumnTransformer use this feature and define the default style\n",
       "- Estimators will overwrite some part of the style using the `sk-estimator` class\n",
       "*/\n",
       "\n",
       "/* Pipeline and ColumnTransformer style (default) */\n",
       "\n",
       "#sk-container-id-2 div.sk-toggleable {\n",
       "  /* Default theme specific background. It is overwritten whether we have a\n",
       "  specific estimator or a Pipeline/ColumnTransformer */\n",
       "  background-color: var(--sklearn-color-background);\n",
       "}\n",
       "\n",
       "/* Toggleable label */\n",
       "#sk-container-id-2 label.sk-toggleable__label {\n",
       "  cursor: pointer;\n",
       "  display: block;\n",
       "  width: 100%;\n",
       "  margin-bottom: 0;\n",
       "  padding: 0.5em;\n",
       "  box-sizing: border-box;\n",
       "  text-align: center;\n",
       "}\n",
       "\n",
       "#sk-container-id-2 label.sk-toggleable__label-arrow:before {\n",
       "  /* Arrow on the left of the label */\n",
       "  content: \"▸\";\n",
       "  float: left;\n",
       "  margin-right: 0.25em;\n",
       "  color: var(--sklearn-color-icon);\n",
       "}\n",
       "\n",
       "#sk-container-id-2 label.sk-toggleable__label-arrow:hover:before {\n",
       "  color: var(--sklearn-color-text);\n",
       "}\n",
       "\n",
       "/* Toggleable content - dropdown */\n",
       "\n",
       "#sk-container-id-2 div.sk-toggleable__content {\n",
       "  max-height: 0;\n",
       "  max-width: 0;\n",
       "  overflow: hidden;\n",
       "  text-align: left;\n",
       "  /* unfitted */\n",
       "  background-color: var(--sklearn-color-unfitted-level-0);\n",
       "}\n",
       "\n",
       "#sk-container-id-2 div.sk-toggleable__content.fitted {\n",
       "  /* fitted */\n",
       "  background-color: var(--sklearn-color-fitted-level-0);\n",
       "}\n",
       "\n",
       "#sk-container-id-2 div.sk-toggleable__content pre {\n",
       "  margin: 0.2em;\n",
       "  border-radius: 0.25em;\n",
       "  color: var(--sklearn-color-text);\n",
       "  /* unfitted */\n",
       "  background-color: var(--sklearn-color-unfitted-level-0);\n",
       "}\n",
       "\n",
       "#sk-container-id-2 div.sk-toggleable__content.fitted pre {\n",
       "  /* unfitted */\n",
       "  background-color: var(--sklearn-color-fitted-level-0);\n",
       "}\n",
       "\n",
       "#sk-container-id-2 input.sk-toggleable__control:checked~div.sk-toggleable__content {\n",
       "  /* Expand drop-down */\n",
       "  max-height: 200px;\n",
       "  max-width: 100%;\n",
       "  overflow: auto;\n",
       "}\n",
       "\n",
       "#sk-container-id-2 input.sk-toggleable__control:checked~label.sk-toggleable__label-arrow:before {\n",
       "  content: \"▾\";\n",
       "}\n",
       "\n",
       "/* Pipeline/ColumnTransformer-specific style */\n",
       "\n",
       "#sk-container-id-2 div.sk-label input.sk-toggleable__control:checked~label.sk-toggleable__label {\n",
       "  color: var(--sklearn-color-text);\n",
       "  background-color: var(--sklearn-color-unfitted-level-2);\n",
       "}\n",
       "\n",
       "#sk-container-id-2 div.sk-label.fitted input.sk-toggleable__control:checked~label.sk-toggleable__label {\n",
       "  background-color: var(--sklearn-color-fitted-level-2);\n",
       "}\n",
       "\n",
       "/* Estimator-specific style */\n",
       "\n",
       "/* Colorize estimator box */\n",
       "#sk-container-id-2 div.sk-estimator input.sk-toggleable__control:checked~label.sk-toggleable__label {\n",
       "  /* unfitted */\n",
       "  background-color: var(--sklearn-color-unfitted-level-2);\n",
       "}\n",
       "\n",
       "#sk-container-id-2 div.sk-estimator.fitted input.sk-toggleable__control:checked~label.sk-toggleable__label {\n",
       "  /* fitted */\n",
       "  background-color: var(--sklearn-color-fitted-level-2);\n",
       "}\n",
       "\n",
       "#sk-container-id-2 div.sk-label label.sk-toggleable__label,\n",
       "#sk-container-id-2 div.sk-label label {\n",
       "  /* The background is the default theme color */\n",
       "  color: var(--sklearn-color-text-on-default-background);\n",
       "}\n",
       "\n",
       "/* On hover, darken the color of the background */\n",
       "#sk-container-id-2 div.sk-label:hover label.sk-toggleable__label {\n",
       "  color: var(--sklearn-color-text);\n",
       "  background-color: var(--sklearn-color-unfitted-level-2);\n",
       "}\n",
       "\n",
       "/* Label box, darken color on hover, fitted */\n",
       "#sk-container-id-2 div.sk-label.fitted:hover label.sk-toggleable__label.fitted {\n",
       "  color: var(--sklearn-color-text);\n",
       "  background-color: var(--sklearn-color-fitted-level-2);\n",
       "}\n",
       "\n",
       "/* Estimator label */\n",
       "\n",
       "#sk-container-id-2 div.sk-label label {\n",
       "  font-family: monospace;\n",
       "  font-weight: bold;\n",
       "  display: inline-block;\n",
       "  line-height: 1.2em;\n",
       "}\n",
       "\n",
       "#sk-container-id-2 div.sk-label-container {\n",
       "  text-align: center;\n",
       "}\n",
       "\n",
       "/* Estimator-specific */\n",
       "#sk-container-id-2 div.sk-estimator {\n",
       "  font-family: monospace;\n",
       "  border: 1px dotted var(--sklearn-color-border-box);\n",
       "  border-radius: 0.25em;\n",
       "  box-sizing: border-box;\n",
       "  margin-bottom: 0.5em;\n",
       "  /* unfitted */\n",
       "  background-color: var(--sklearn-color-unfitted-level-0);\n",
       "}\n",
       "\n",
       "#sk-container-id-2 div.sk-estimator.fitted {\n",
       "  /* fitted */\n",
       "  background-color: var(--sklearn-color-fitted-level-0);\n",
       "}\n",
       "\n",
       "/* on hover */\n",
       "#sk-container-id-2 div.sk-estimator:hover {\n",
       "  /* unfitted */\n",
       "  background-color: var(--sklearn-color-unfitted-level-2);\n",
       "}\n",
       "\n",
       "#sk-container-id-2 div.sk-estimator.fitted:hover {\n",
       "  /* fitted */\n",
       "  background-color: var(--sklearn-color-fitted-level-2);\n",
       "}\n",
       "\n",
       "/* Specification for estimator info (e.g. \"i\" and \"?\") */\n",
       "\n",
       "/* Common style for \"i\" and \"?\" */\n",
       "\n",
       ".sk-estimator-doc-link,\n",
       "a:link.sk-estimator-doc-link,\n",
       "a:visited.sk-estimator-doc-link {\n",
       "  float: right;\n",
       "  font-size: smaller;\n",
       "  line-height: 1em;\n",
       "  font-family: monospace;\n",
       "  background-color: var(--sklearn-color-background);\n",
       "  border-radius: 1em;\n",
       "  height: 1em;\n",
       "  width: 1em;\n",
       "  text-decoration: none !important;\n",
       "  margin-left: 1ex;\n",
       "  /* unfitted */\n",
       "  border: var(--sklearn-color-unfitted-level-1) 1pt solid;\n",
       "  color: var(--sklearn-color-unfitted-level-1);\n",
       "}\n",
       "\n",
       ".sk-estimator-doc-link.fitted,\n",
       "a:link.sk-estimator-doc-link.fitted,\n",
       "a:visited.sk-estimator-doc-link.fitted {\n",
       "  /* fitted */\n",
       "  border: var(--sklearn-color-fitted-level-1) 1pt solid;\n",
       "  color: var(--sklearn-color-fitted-level-1);\n",
       "}\n",
       "\n",
       "/* On hover */\n",
       "div.sk-estimator:hover .sk-estimator-doc-link:hover,\n",
       ".sk-estimator-doc-link:hover,\n",
       "div.sk-label-container:hover .sk-estimator-doc-link:hover,\n",
       ".sk-estimator-doc-link:hover {\n",
       "  /* unfitted */\n",
       "  background-color: var(--sklearn-color-unfitted-level-3);\n",
       "  color: var(--sklearn-color-background);\n",
       "  text-decoration: none;\n",
       "}\n",
       "\n",
       "div.sk-estimator.fitted:hover .sk-estimator-doc-link.fitted:hover,\n",
       ".sk-estimator-doc-link.fitted:hover,\n",
       "div.sk-label-container:hover .sk-estimator-doc-link.fitted:hover,\n",
       ".sk-estimator-doc-link.fitted:hover {\n",
       "  /* fitted */\n",
       "  background-color: var(--sklearn-color-fitted-level-3);\n",
       "  color: var(--sklearn-color-background);\n",
       "  text-decoration: none;\n",
       "}\n",
       "\n",
       "/* Span, style for the box shown on hovering the info icon */\n",
       ".sk-estimator-doc-link span {\n",
       "  display: none;\n",
       "  z-index: 9999;\n",
       "  position: relative;\n",
       "  font-weight: normal;\n",
       "  right: .2ex;\n",
       "  padding: .5ex;\n",
       "  margin: .5ex;\n",
       "  width: min-content;\n",
       "  min-width: 20ex;\n",
       "  max-width: 50ex;\n",
       "  color: var(--sklearn-color-text);\n",
       "  box-shadow: 2pt 2pt 4pt #999;\n",
       "  /* unfitted */\n",
       "  background: var(--sklearn-color-unfitted-level-0);\n",
       "  border: .5pt solid var(--sklearn-color-unfitted-level-3);\n",
       "}\n",
       "\n",
       ".sk-estimator-doc-link.fitted span {\n",
       "  /* fitted */\n",
       "  background: var(--sklearn-color-fitted-level-0);\n",
       "  border: var(--sklearn-color-fitted-level-3);\n",
       "}\n",
       "\n",
       ".sk-estimator-doc-link:hover span {\n",
       "  display: block;\n",
       "}\n",
       "\n",
       "/* \"?\"-specific style due to the `<a>` HTML tag */\n",
       "\n",
       "#sk-container-id-2 a.estimator_doc_link {\n",
       "  float: right;\n",
       "  font-size: 1rem;\n",
       "  line-height: 1em;\n",
       "  font-family: monospace;\n",
       "  background-color: var(--sklearn-color-background);\n",
       "  border-radius: 1rem;\n",
       "  height: 1rem;\n",
       "  width: 1rem;\n",
       "  text-decoration: none;\n",
       "  /* unfitted */\n",
       "  color: var(--sklearn-color-unfitted-level-1);\n",
       "  border: var(--sklearn-color-unfitted-level-1) 1pt solid;\n",
       "}\n",
       "\n",
       "#sk-container-id-2 a.estimator_doc_link.fitted {\n",
       "  /* fitted */\n",
       "  border: var(--sklearn-color-fitted-level-1) 1pt solid;\n",
       "  color: var(--sklearn-color-fitted-level-1);\n",
       "}\n",
       "\n",
       "/* On hover */\n",
       "#sk-container-id-2 a.estimator_doc_link:hover {\n",
       "  /* unfitted */\n",
       "  background-color: var(--sklearn-color-unfitted-level-3);\n",
       "  color: var(--sklearn-color-background);\n",
       "  text-decoration: none;\n",
       "}\n",
       "\n",
       "#sk-container-id-2 a.estimator_doc_link.fitted:hover {\n",
       "  /* fitted */\n",
       "  background-color: var(--sklearn-color-fitted-level-3);\n",
       "}\n",
       "</style><div id=\"sk-container-id-2\" class=\"sk-top-container\"><div class=\"sk-text-repr-fallback\"><pre>DecisionTreeClassifier()</pre><b>In a Jupyter environment, please rerun this cell to show the HTML representation or trust the notebook. <br />On GitHub, the HTML representation is unable to render, please try loading this page with nbviewer.org.</b></div><div class=\"sk-container\" hidden><div class=\"sk-item\"><div class=\"sk-estimator fitted sk-toggleable\"><input class=\"sk-toggleable__control sk-hidden--visually\" id=\"sk-estimator-id-2\" type=\"checkbox\" checked><label for=\"sk-estimator-id-2\" class=\"sk-toggleable__label fitted sk-toggleable__label-arrow fitted\">&nbsp;&nbsp;DecisionTreeClassifier<a class=\"sk-estimator-doc-link fitted\" rel=\"noreferrer\" target=\"_blank\" href=\"https://scikit-learn.org/1.5/modules/generated/sklearn.tree.DecisionTreeClassifier.html\">?<span>Documentation for DecisionTreeClassifier</span></a><span class=\"sk-estimator-doc-link fitted\">i<span>Fitted</span></span></label><div class=\"sk-toggleable__content fitted\"><pre>DecisionTreeClassifier()</pre></div> </div></div></div></div>"
      ],
      "text/plain": [
       "DecisionTreeClassifier()"
      ]
     },
     "execution_count": 106,
     "metadata": {},
     "output_type": "execute_result"
    }
   ],
   "source": [
    "DT = DecisionTreeClassifier()\n",
    "DT.fit(X_train, y_train)"
   ]
  },
  {
   "cell_type": "code",
   "execution_count": 107,
   "metadata": {},
   "outputs": [],
   "source": [
    "def y_pred(Model_app, X_test) :\n",
    "    y_predict = Model_app.predict(X_test)\n",
    "    return y_predict"
   ]
  },
  {
   "cell_type": "code",
   "execution_count": 108,
   "metadata": {},
   "outputs": [],
   "source": [
    "def Static_score_model_class(y, y_pred,aver = 'macro'):\n",
    "    accuracy = accuracy_score(y, y_pred)\n",
    "    precision = precision_score(y,y_pred, average = aver)\n",
    "    recall = recall_score(y,y_pred, average = aver)\n",
    "    f1 = f1_score(y, y_pred, average = aver)\n",
    "    print(\"Accuracy score: {} \\n\".format(accuracy))\n",
    "    print(\"Precision score: {} \\n\".format(precision))\n",
    "    print(\"Recall score: {} \\n\".format(recall))\n",
    "    print(\"F1 score: {} \\n\".format(f1))\n",
    "    print(classification_report(y,y_pred))"
   ]
  },
  {
   "cell_type": "code",
   "execution_count": 109,
   "metadata": {},
   "outputs": [
    {
     "name": "stdout",
     "output_type": "stream",
     "text": [
      "Accuracy score: 0.9588162053443157 \n",
      "\n",
      "Precision score: 0.9690122442167789 \n",
      "\n",
      "Recall score: 0.9665090381579554 \n",
      "\n",
      "F1 score: 0.9676897004187069 \n",
      "\n",
      "              precision    recall  f1-score   support\n",
      "\n",
      "           0       0.96      0.97      0.96      9802\n",
      "           1       1.00      0.96      0.98      4250\n",
      "           2       0.94      0.93      0.93      6114\n",
      "           3       1.00      1.00      1.00         5\n",
      "           4       0.92      0.94      0.93      6133\n",
      "           5       1.00      1.00      1.00      5019\n",
      "\n",
      "    accuracy                           0.96     31323\n",
      "   macro avg       0.97      0.97      0.97     31323\n",
      "weighted avg       0.96      0.96      0.96     31323\n",
      "\n"
     ]
    }
   ],
   "source": [
    "Static_score_model_class(y_test, y_pred(DT, X_test), aver = 'macro')"
   ]
  },
  {
   "cell_type": "markdown",
   "metadata": {},
   "source": [
    "**Mô hình KNN**"
   ]
  },
  {
   "cell_type": "code",
   "execution_count": 110,
   "metadata": {},
   "outputs": [
    {
     "data": {
      "text/html": [
       "<style>#sk-container-id-3 {\n",
       "  /* Definition of color scheme common for light and dark mode */\n",
       "  --sklearn-color-text: black;\n",
       "  --sklearn-color-line: gray;\n",
       "  /* Definition of color scheme for unfitted estimators */\n",
       "  --sklearn-color-unfitted-level-0: #fff5e6;\n",
       "  --sklearn-color-unfitted-level-1: #f6e4d2;\n",
       "  --sklearn-color-unfitted-level-2: #ffe0b3;\n",
       "  --sklearn-color-unfitted-level-3: chocolate;\n",
       "  /* Definition of color scheme for fitted estimators */\n",
       "  --sklearn-color-fitted-level-0: #f0f8ff;\n",
       "  --sklearn-color-fitted-level-1: #d4ebff;\n",
       "  --sklearn-color-fitted-level-2: #b3dbfd;\n",
       "  --sklearn-color-fitted-level-3: cornflowerblue;\n",
       "\n",
       "  /* Specific color for light theme */\n",
       "  --sklearn-color-text-on-default-background: var(--sg-text-color, var(--theme-code-foreground, var(--jp-content-font-color1, black)));\n",
       "  --sklearn-color-background: var(--sg-background-color, var(--theme-background, var(--jp-layout-color0, white)));\n",
       "  --sklearn-color-border-box: var(--sg-text-color, var(--theme-code-foreground, var(--jp-content-font-color1, black)));\n",
       "  --sklearn-color-icon: #696969;\n",
       "\n",
       "  @media (prefers-color-scheme: dark) {\n",
       "    /* Redefinition of color scheme for dark theme */\n",
       "    --sklearn-color-text-on-default-background: var(--sg-text-color, var(--theme-code-foreground, var(--jp-content-font-color1, white)));\n",
       "    --sklearn-color-background: var(--sg-background-color, var(--theme-background, var(--jp-layout-color0, #111)));\n",
       "    --sklearn-color-border-box: var(--sg-text-color, var(--theme-code-foreground, var(--jp-content-font-color1, white)));\n",
       "    --sklearn-color-icon: #878787;\n",
       "  }\n",
       "}\n",
       "\n",
       "#sk-container-id-3 {\n",
       "  color: var(--sklearn-color-text);\n",
       "}\n",
       "\n",
       "#sk-container-id-3 pre {\n",
       "  padding: 0;\n",
       "}\n",
       "\n",
       "#sk-container-id-3 input.sk-hidden--visually {\n",
       "  border: 0;\n",
       "  clip: rect(1px 1px 1px 1px);\n",
       "  clip: rect(1px, 1px, 1px, 1px);\n",
       "  height: 1px;\n",
       "  margin: -1px;\n",
       "  overflow: hidden;\n",
       "  padding: 0;\n",
       "  position: absolute;\n",
       "  width: 1px;\n",
       "}\n",
       "\n",
       "#sk-container-id-3 div.sk-dashed-wrapped {\n",
       "  border: 1px dashed var(--sklearn-color-line);\n",
       "  margin: 0 0.4em 0.5em 0.4em;\n",
       "  box-sizing: border-box;\n",
       "  padding-bottom: 0.4em;\n",
       "  background-color: var(--sklearn-color-background);\n",
       "}\n",
       "\n",
       "#sk-container-id-3 div.sk-container {\n",
       "  /* jupyter's `normalize.less` sets `[hidden] { display: none; }`\n",
       "     but bootstrap.min.css set `[hidden] { display: none !important; }`\n",
       "     so we also need the `!important` here to be able to override the\n",
       "     default hidden behavior on the sphinx rendered scikit-learn.org.\n",
       "     See: https://github.com/scikit-learn/scikit-learn/issues/21755 */\n",
       "  display: inline-block !important;\n",
       "  position: relative;\n",
       "}\n",
       "\n",
       "#sk-container-id-3 div.sk-text-repr-fallback {\n",
       "  display: none;\n",
       "}\n",
       "\n",
       "div.sk-parallel-item,\n",
       "div.sk-serial,\n",
       "div.sk-item {\n",
       "  /* draw centered vertical line to link estimators */\n",
       "  background-image: linear-gradient(var(--sklearn-color-text-on-default-background), var(--sklearn-color-text-on-default-background));\n",
       "  background-size: 2px 100%;\n",
       "  background-repeat: no-repeat;\n",
       "  background-position: center center;\n",
       "}\n",
       "\n",
       "/* Parallel-specific style estimator block */\n",
       "\n",
       "#sk-container-id-3 div.sk-parallel-item::after {\n",
       "  content: \"\";\n",
       "  width: 100%;\n",
       "  border-bottom: 2px solid var(--sklearn-color-text-on-default-background);\n",
       "  flex-grow: 1;\n",
       "}\n",
       "\n",
       "#sk-container-id-3 div.sk-parallel {\n",
       "  display: flex;\n",
       "  align-items: stretch;\n",
       "  justify-content: center;\n",
       "  background-color: var(--sklearn-color-background);\n",
       "  position: relative;\n",
       "}\n",
       "\n",
       "#sk-container-id-3 div.sk-parallel-item {\n",
       "  display: flex;\n",
       "  flex-direction: column;\n",
       "}\n",
       "\n",
       "#sk-container-id-3 div.sk-parallel-item:first-child::after {\n",
       "  align-self: flex-end;\n",
       "  width: 50%;\n",
       "}\n",
       "\n",
       "#sk-container-id-3 div.sk-parallel-item:last-child::after {\n",
       "  align-self: flex-start;\n",
       "  width: 50%;\n",
       "}\n",
       "\n",
       "#sk-container-id-3 div.sk-parallel-item:only-child::after {\n",
       "  width: 0;\n",
       "}\n",
       "\n",
       "/* Serial-specific style estimator block */\n",
       "\n",
       "#sk-container-id-3 div.sk-serial {\n",
       "  display: flex;\n",
       "  flex-direction: column;\n",
       "  align-items: center;\n",
       "  background-color: var(--sklearn-color-background);\n",
       "  padding-right: 1em;\n",
       "  padding-left: 1em;\n",
       "}\n",
       "\n",
       "\n",
       "/* Toggleable style: style used for estimator/Pipeline/ColumnTransformer box that is\n",
       "clickable and can be expanded/collapsed.\n",
       "- Pipeline and ColumnTransformer use this feature and define the default style\n",
       "- Estimators will overwrite some part of the style using the `sk-estimator` class\n",
       "*/\n",
       "\n",
       "/* Pipeline and ColumnTransformer style (default) */\n",
       "\n",
       "#sk-container-id-3 div.sk-toggleable {\n",
       "  /* Default theme specific background. It is overwritten whether we have a\n",
       "  specific estimator or a Pipeline/ColumnTransformer */\n",
       "  background-color: var(--sklearn-color-background);\n",
       "}\n",
       "\n",
       "/* Toggleable label */\n",
       "#sk-container-id-3 label.sk-toggleable__label {\n",
       "  cursor: pointer;\n",
       "  display: block;\n",
       "  width: 100%;\n",
       "  margin-bottom: 0;\n",
       "  padding: 0.5em;\n",
       "  box-sizing: border-box;\n",
       "  text-align: center;\n",
       "}\n",
       "\n",
       "#sk-container-id-3 label.sk-toggleable__label-arrow:before {\n",
       "  /* Arrow on the left of the label */\n",
       "  content: \"▸\";\n",
       "  float: left;\n",
       "  margin-right: 0.25em;\n",
       "  color: var(--sklearn-color-icon);\n",
       "}\n",
       "\n",
       "#sk-container-id-3 label.sk-toggleable__label-arrow:hover:before {\n",
       "  color: var(--sklearn-color-text);\n",
       "}\n",
       "\n",
       "/* Toggleable content - dropdown */\n",
       "\n",
       "#sk-container-id-3 div.sk-toggleable__content {\n",
       "  max-height: 0;\n",
       "  max-width: 0;\n",
       "  overflow: hidden;\n",
       "  text-align: left;\n",
       "  /* unfitted */\n",
       "  background-color: var(--sklearn-color-unfitted-level-0);\n",
       "}\n",
       "\n",
       "#sk-container-id-3 div.sk-toggleable__content.fitted {\n",
       "  /* fitted */\n",
       "  background-color: var(--sklearn-color-fitted-level-0);\n",
       "}\n",
       "\n",
       "#sk-container-id-3 div.sk-toggleable__content pre {\n",
       "  margin: 0.2em;\n",
       "  border-radius: 0.25em;\n",
       "  color: var(--sklearn-color-text);\n",
       "  /* unfitted */\n",
       "  background-color: var(--sklearn-color-unfitted-level-0);\n",
       "}\n",
       "\n",
       "#sk-container-id-3 div.sk-toggleable__content.fitted pre {\n",
       "  /* unfitted */\n",
       "  background-color: var(--sklearn-color-fitted-level-0);\n",
       "}\n",
       "\n",
       "#sk-container-id-3 input.sk-toggleable__control:checked~div.sk-toggleable__content {\n",
       "  /* Expand drop-down */\n",
       "  max-height: 200px;\n",
       "  max-width: 100%;\n",
       "  overflow: auto;\n",
       "}\n",
       "\n",
       "#sk-container-id-3 input.sk-toggleable__control:checked~label.sk-toggleable__label-arrow:before {\n",
       "  content: \"▾\";\n",
       "}\n",
       "\n",
       "/* Pipeline/ColumnTransformer-specific style */\n",
       "\n",
       "#sk-container-id-3 div.sk-label input.sk-toggleable__control:checked~label.sk-toggleable__label {\n",
       "  color: var(--sklearn-color-text);\n",
       "  background-color: var(--sklearn-color-unfitted-level-2);\n",
       "}\n",
       "\n",
       "#sk-container-id-3 div.sk-label.fitted input.sk-toggleable__control:checked~label.sk-toggleable__label {\n",
       "  background-color: var(--sklearn-color-fitted-level-2);\n",
       "}\n",
       "\n",
       "/* Estimator-specific style */\n",
       "\n",
       "/* Colorize estimator box */\n",
       "#sk-container-id-3 div.sk-estimator input.sk-toggleable__control:checked~label.sk-toggleable__label {\n",
       "  /* unfitted */\n",
       "  background-color: var(--sklearn-color-unfitted-level-2);\n",
       "}\n",
       "\n",
       "#sk-container-id-3 div.sk-estimator.fitted input.sk-toggleable__control:checked~label.sk-toggleable__label {\n",
       "  /* fitted */\n",
       "  background-color: var(--sklearn-color-fitted-level-2);\n",
       "}\n",
       "\n",
       "#sk-container-id-3 div.sk-label label.sk-toggleable__label,\n",
       "#sk-container-id-3 div.sk-label label {\n",
       "  /* The background is the default theme color */\n",
       "  color: var(--sklearn-color-text-on-default-background);\n",
       "}\n",
       "\n",
       "/* On hover, darken the color of the background */\n",
       "#sk-container-id-3 div.sk-label:hover label.sk-toggleable__label {\n",
       "  color: var(--sklearn-color-text);\n",
       "  background-color: var(--sklearn-color-unfitted-level-2);\n",
       "}\n",
       "\n",
       "/* Label box, darken color on hover, fitted */\n",
       "#sk-container-id-3 div.sk-label.fitted:hover label.sk-toggleable__label.fitted {\n",
       "  color: var(--sklearn-color-text);\n",
       "  background-color: var(--sklearn-color-fitted-level-2);\n",
       "}\n",
       "\n",
       "/* Estimator label */\n",
       "\n",
       "#sk-container-id-3 div.sk-label label {\n",
       "  font-family: monospace;\n",
       "  font-weight: bold;\n",
       "  display: inline-block;\n",
       "  line-height: 1.2em;\n",
       "}\n",
       "\n",
       "#sk-container-id-3 div.sk-label-container {\n",
       "  text-align: center;\n",
       "}\n",
       "\n",
       "/* Estimator-specific */\n",
       "#sk-container-id-3 div.sk-estimator {\n",
       "  font-family: monospace;\n",
       "  border: 1px dotted var(--sklearn-color-border-box);\n",
       "  border-radius: 0.25em;\n",
       "  box-sizing: border-box;\n",
       "  margin-bottom: 0.5em;\n",
       "  /* unfitted */\n",
       "  background-color: var(--sklearn-color-unfitted-level-0);\n",
       "}\n",
       "\n",
       "#sk-container-id-3 div.sk-estimator.fitted {\n",
       "  /* fitted */\n",
       "  background-color: var(--sklearn-color-fitted-level-0);\n",
       "}\n",
       "\n",
       "/* on hover */\n",
       "#sk-container-id-3 div.sk-estimator:hover {\n",
       "  /* unfitted */\n",
       "  background-color: var(--sklearn-color-unfitted-level-2);\n",
       "}\n",
       "\n",
       "#sk-container-id-3 div.sk-estimator.fitted:hover {\n",
       "  /* fitted */\n",
       "  background-color: var(--sklearn-color-fitted-level-2);\n",
       "}\n",
       "\n",
       "/* Specification for estimator info (e.g. \"i\" and \"?\") */\n",
       "\n",
       "/* Common style for \"i\" and \"?\" */\n",
       "\n",
       ".sk-estimator-doc-link,\n",
       "a:link.sk-estimator-doc-link,\n",
       "a:visited.sk-estimator-doc-link {\n",
       "  float: right;\n",
       "  font-size: smaller;\n",
       "  line-height: 1em;\n",
       "  font-family: monospace;\n",
       "  background-color: var(--sklearn-color-background);\n",
       "  border-radius: 1em;\n",
       "  height: 1em;\n",
       "  width: 1em;\n",
       "  text-decoration: none !important;\n",
       "  margin-left: 1ex;\n",
       "  /* unfitted */\n",
       "  border: var(--sklearn-color-unfitted-level-1) 1pt solid;\n",
       "  color: var(--sklearn-color-unfitted-level-1);\n",
       "}\n",
       "\n",
       ".sk-estimator-doc-link.fitted,\n",
       "a:link.sk-estimator-doc-link.fitted,\n",
       "a:visited.sk-estimator-doc-link.fitted {\n",
       "  /* fitted */\n",
       "  border: var(--sklearn-color-fitted-level-1) 1pt solid;\n",
       "  color: var(--sklearn-color-fitted-level-1);\n",
       "}\n",
       "\n",
       "/* On hover */\n",
       "div.sk-estimator:hover .sk-estimator-doc-link:hover,\n",
       ".sk-estimator-doc-link:hover,\n",
       "div.sk-label-container:hover .sk-estimator-doc-link:hover,\n",
       ".sk-estimator-doc-link:hover {\n",
       "  /* unfitted */\n",
       "  background-color: var(--sklearn-color-unfitted-level-3);\n",
       "  color: var(--sklearn-color-background);\n",
       "  text-decoration: none;\n",
       "}\n",
       "\n",
       "div.sk-estimator.fitted:hover .sk-estimator-doc-link.fitted:hover,\n",
       ".sk-estimator-doc-link.fitted:hover,\n",
       "div.sk-label-container:hover .sk-estimator-doc-link.fitted:hover,\n",
       ".sk-estimator-doc-link.fitted:hover {\n",
       "  /* fitted */\n",
       "  background-color: var(--sklearn-color-fitted-level-3);\n",
       "  color: var(--sklearn-color-background);\n",
       "  text-decoration: none;\n",
       "}\n",
       "\n",
       "/* Span, style for the box shown on hovering the info icon */\n",
       ".sk-estimator-doc-link span {\n",
       "  display: none;\n",
       "  z-index: 9999;\n",
       "  position: relative;\n",
       "  font-weight: normal;\n",
       "  right: .2ex;\n",
       "  padding: .5ex;\n",
       "  margin: .5ex;\n",
       "  width: min-content;\n",
       "  min-width: 20ex;\n",
       "  max-width: 50ex;\n",
       "  color: var(--sklearn-color-text);\n",
       "  box-shadow: 2pt 2pt 4pt #999;\n",
       "  /* unfitted */\n",
       "  background: var(--sklearn-color-unfitted-level-0);\n",
       "  border: .5pt solid var(--sklearn-color-unfitted-level-3);\n",
       "}\n",
       "\n",
       ".sk-estimator-doc-link.fitted span {\n",
       "  /* fitted */\n",
       "  background: var(--sklearn-color-fitted-level-0);\n",
       "  border: var(--sklearn-color-fitted-level-3);\n",
       "}\n",
       "\n",
       ".sk-estimator-doc-link:hover span {\n",
       "  display: block;\n",
       "}\n",
       "\n",
       "/* \"?\"-specific style due to the `<a>` HTML tag */\n",
       "\n",
       "#sk-container-id-3 a.estimator_doc_link {\n",
       "  float: right;\n",
       "  font-size: 1rem;\n",
       "  line-height: 1em;\n",
       "  font-family: monospace;\n",
       "  background-color: var(--sklearn-color-background);\n",
       "  border-radius: 1rem;\n",
       "  height: 1rem;\n",
       "  width: 1rem;\n",
       "  text-decoration: none;\n",
       "  /* unfitted */\n",
       "  color: var(--sklearn-color-unfitted-level-1);\n",
       "  border: var(--sklearn-color-unfitted-level-1) 1pt solid;\n",
       "}\n",
       "\n",
       "#sk-container-id-3 a.estimator_doc_link.fitted {\n",
       "  /* fitted */\n",
       "  border: var(--sklearn-color-fitted-level-1) 1pt solid;\n",
       "  color: var(--sklearn-color-fitted-level-1);\n",
       "}\n",
       "\n",
       "/* On hover */\n",
       "#sk-container-id-3 a.estimator_doc_link:hover {\n",
       "  /* unfitted */\n",
       "  background-color: var(--sklearn-color-unfitted-level-3);\n",
       "  color: var(--sklearn-color-background);\n",
       "  text-decoration: none;\n",
       "}\n",
       "\n",
       "#sk-container-id-3 a.estimator_doc_link.fitted:hover {\n",
       "  /* fitted */\n",
       "  background-color: var(--sklearn-color-fitted-level-3);\n",
       "}\n",
       "</style><div id=\"sk-container-id-3\" class=\"sk-top-container\"><div class=\"sk-text-repr-fallback\"><pre>KNeighborsClassifier()</pre><b>In a Jupyter environment, please rerun this cell to show the HTML representation or trust the notebook. <br />On GitHub, the HTML representation is unable to render, please try loading this page with nbviewer.org.</b></div><div class=\"sk-container\" hidden><div class=\"sk-item\"><div class=\"sk-estimator fitted sk-toggleable\"><input class=\"sk-toggleable__control sk-hidden--visually\" id=\"sk-estimator-id-3\" type=\"checkbox\" checked><label for=\"sk-estimator-id-3\" class=\"sk-toggleable__label fitted sk-toggleable__label-arrow fitted\">&nbsp;&nbsp;KNeighborsClassifier<a class=\"sk-estimator-doc-link fitted\" rel=\"noreferrer\" target=\"_blank\" href=\"https://scikit-learn.org/1.5/modules/generated/sklearn.neighbors.KNeighborsClassifier.html\">?<span>Documentation for KNeighborsClassifier</span></a><span class=\"sk-estimator-doc-link fitted\">i<span>Fitted</span></span></label><div class=\"sk-toggleable__content fitted\"><pre>KNeighborsClassifier()</pre></div> </div></div></div></div>"
      ],
      "text/plain": [
       "KNeighborsClassifier()"
      ]
     },
     "execution_count": 110,
     "metadata": {},
     "output_type": "execute_result"
    }
   ],
   "source": [
    "from sklearn.neighbors import KNeighborsClassifier\n",
    "KNN = KNeighborsClassifier()\n",
    "KNN.fit(X_train,y_train)"
   ]
  },
  {
   "cell_type": "code",
   "execution_count": 111,
   "metadata": {},
   "outputs": [
    {
     "name": "stderr",
     "output_type": "stream",
     "text": [
      "Exception in thread Thread-37 (_readerthread):\n",
      "Traceback (most recent call last):\n",
      "  File \"c:\\Users\\nguye\\anaconda3\\envs\\iot\\Lib\\threading.py\", line 1073, in _bootstrap_inner\n",
      "    self.run()\n",
      "  File \"c:\\Users\\nguye\\anaconda3\\envs\\iot\\Lib\\site-packages\\ipykernel\\ipkernel.py\", line 766, in run_closure\n",
      "    _threading_Thread_run(self)\n",
      "  File \"c:\\Users\\nguye\\anaconda3\\envs\\iot\\Lib\\threading.py\", line 1010, in run\n",
      "    self._target(*self._args, **self._kwargs)\n",
      "  File \"c:\\Users\\nguye\\anaconda3\\envs\\iot\\Lib\\subprocess.py\", line 1599, in _readerthread\n",
      "    buffer.append(fh.read())\n",
      "                  ^^^^^^^^^\n",
      "  File \"<frozen codecs>\", line 322, in decode\n",
      "UnicodeDecodeError: 'utf-8' codec can't decode byte 0xdd in position 35: invalid continuation byte\n",
      "c:\\Users\\nguye\\anaconda3\\envs\\iot\\Lib\\site-packages\\joblib\\externals\\loky\\backend\\context.py:136: UserWarning: Could not find the number of physical cores for the following reason:\n",
      "'NoneType' object has no attribute 'splitlines'\n",
      "Returning the number of logical cores instead. You can silence this warning by setting LOKY_MAX_CPU_COUNT to the number of cores you want to use.\n",
      "  warnings.warn(\n",
      "  File \"c:\\Users\\nguye\\anaconda3\\envs\\iot\\Lib\\site-packages\\joblib\\externals\\loky\\backend\\context.py\", line 262, in _count_physical_cores\n",
      "    cpu_info = cpu_info.stdout.splitlines()\n",
      "               ^^^^^^^^^^^^^^^^^^^^^^^^^^\n"
     ]
    },
    {
     "name": "stdout",
     "output_type": "stream",
     "text": [
      "Accuracy score: 0.9057880790473454 \n",
      "\n",
      "Precision score: 0.9278103079183078 \n",
      "\n",
      "Recall score: 0.925398168550526 \n",
      "\n",
      "F1 score: 0.9258000861465333 \n",
      "\n",
      "              precision    recall  f1-score   support\n",
      "\n",
      "           0       0.91      0.92      0.92      9802\n",
      "           1       0.96      0.96      0.96      4250\n",
      "           2       0.80      0.88      0.84      6114\n",
      "           3       1.00      1.00      1.00         5\n",
      "           4       0.90      0.80      0.84      6133\n",
      "           5       1.00      1.00      1.00      5019\n",
      "\n",
      "    accuracy                           0.91     31323\n",
      "   macro avg       0.93      0.93      0.93     31323\n",
      "weighted avg       0.91      0.91      0.91     31323\n",
      "\n"
     ]
    }
   ],
   "source": [
    "Static_score_model_class(y_test,y_pred(KNN, X_test))"
   ]
  },
  {
   "cell_type": "markdown",
   "metadata": {},
   "source": [
    "**Mô hình XGBoost**"
   ]
  },
  {
   "cell_type": "code",
   "execution_count": 112,
   "metadata": {},
   "outputs": [
    {
     "ename": "ModuleNotFoundError",
     "evalue": "No module named 'xgboost'",
     "output_type": "error",
     "traceback": [
      "\u001b[1;31m---------------------------------------------------------------------------\u001b[0m",
      "\u001b[1;31mModuleNotFoundError\u001b[0m                       Traceback (most recent call last)",
      "Cell \u001b[1;32mIn[112], line 1\u001b[0m\n\u001b[1;32m----> 1\u001b[0m \u001b[38;5;28;01mfrom\u001b[39;00m \u001b[38;5;21;01mxgboost\u001b[39;00m \u001b[38;5;28;01mimport\u001b[39;00m XGBClassifier\n\u001b[0;32m      2\u001b[0m XG \u001b[38;5;241m=\u001b[39m XGBClassifier()\n\u001b[0;32m      3\u001b[0m XG\u001b[38;5;241m.\u001b[39mfit(X_train,y_train)\n",
      "\u001b[1;31mModuleNotFoundError\u001b[0m: No module named 'xgboost'"
     ]
    }
   ],
   "source": [
    "from xgboost import XGBClassifier\n",
    "XG = XGBClassifier()\n",
    "XG.fit(X_train,y_train)"
   ]
  },
  {
   "cell_type": "code",
   "execution_count": 51,
   "metadata": {},
   "outputs": [
    {
     "name": "stdout",
     "output_type": "stream",
     "text": [
      "Accuracy score: 0.9654186034632477 \n",
      "\n",
      "Precision score: 0.9649139207039064 \n",
      "\n",
      "Recall score: 0.9547474651485842 \n",
      "\n",
      "F1 score: 0.9588225459328854 \n",
      "\n",
      "              precision    recall  f1-score   support\n",
      "\n",
      "           0       1.00      0.97      0.98      2500\n",
      "           1       0.82      0.90      0.86      2621\n",
      "           2       1.00      1.00      1.00      3480\n",
      "           3       1.00      1.00      1.00      2479\n",
      "           4       1.00      1.00      1.00      3615\n",
      "           5       0.97      0.83      0.89       260\n",
      "           6       1.00      1.00      1.00         6\n",
      "           7       1.00      1.00      1.00      6245\n",
      "           8       0.96      0.83      0.89      2575\n",
      "           9       0.99      0.94      0.96      2550\n",
      "          10       0.91      1.00      0.95      2649\n",
      "          11       0.89      0.89      0.89      2630\n",
      "          12       0.93      0.97      0.95      2499\n",
      "          13       1.00      1.00      1.00      2490\n",
      "          14       1.00      1.00      1.00      2555\n",
      "\n",
      "    accuracy                           0.97     39154\n",
      "   macro avg       0.96      0.95      0.96     39154\n",
      "weighted avg       0.97      0.97      0.97     39154\n",
      "\n"
     ]
    }
   ],
   "source": [
    "Static_score_model_class(y_test, y_pred(XG, X_test))"
   ]
  },
  {
   "cell_type": "markdown",
   "metadata": {},
   "source": [
    "**Mô hình RandomForest**"
   ]
  },
  {
   "cell_type": "code",
   "execution_count": 113,
   "metadata": {},
   "outputs": [
    {
     "data": {
      "text/html": [
       "<style>#sk-container-id-4 {\n",
       "  /* Definition of color scheme common for light and dark mode */\n",
       "  --sklearn-color-text: black;\n",
       "  --sklearn-color-line: gray;\n",
       "  /* Definition of color scheme for unfitted estimators */\n",
       "  --sklearn-color-unfitted-level-0: #fff5e6;\n",
       "  --sklearn-color-unfitted-level-1: #f6e4d2;\n",
       "  --sklearn-color-unfitted-level-2: #ffe0b3;\n",
       "  --sklearn-color-unfitted-level-3: chocolate;\n",
       "  /* Definition of color scheme for fitted estimators */\n",
       "  --sklearn-color-fitted-level-0: #f0f8ff;\n",
       "  --sklearn-color-fitted-level-1: #d4ebff;\n",
       "  --sklearn-color-fitted-level-2: #b3dbfd;\n",
       "  --sklearn-color-fitted-level-3: cornflowerblue;\n",
       "\n",
       "  /* Specific color for light theme */\n",
       "  --sklearn-color-text-on-default-background: var(--sg-text-color, var(--theme-code-foreground, var(--jp-content-font-color1, black)));\n",
       "  --sklearn-color-background: var(--sg-background-color, var(--theme-background, var(--jp-layout-color0, white)));\n",
       "  --sklearn-color-border-box: var(--sg-text-color, var(--theme-code-foreground, var(--jp-content-font-color1, black)));\n",
       "  --sklearn-color-icon: #696969;\n",
       "\n",
       "  @media (prefers-color-scheme: dark) {\n",
       "    /* Redefinition of color scheme for dark theme */\n",
       "    --sklearn-color-text-on-default-background: var(--sg-text-color, var(--theme-code-foreground, var(--jp-content-font-color1, white)));\n",
       "    --sklearn-color-background: var(--sg-background-color, var(--theme-background, var(--jp-layout-color0, #111)));\n",
       "    --sklearn-color-border-box: var(--sg-text-color, var(--theme-code-foreground, var(--jp-content-font-color1, white)));\n",
       "    --sklearn-color-icon: #878787;\n",
       "  }\n",
       "}\n",
       "\n",
       "#sk-container-id-4 {\n",
       "  color: var(--sklearn-color-text);\n",
       "}\n",
       "\n",
       "#sk-container-id-4 pre {\n",
       "  padding: 0;\n",
       "}\n",
       "\n",
       "#sk-container-id-4 input.sk-hidden--visually {\n",
       "  border: 0;\n",
       "  clip: rect(1px 1px 1px 1px);\n",
       "  clip: rect(1px, 1px, 1px, 1px);\n",
       "  height: 1px;\n",
       "  margin: -1px;\n",
       "  overflow: hidden;\n",
       "  padding: 0;\n",
       "  position: absolute;\n",
       "  width: 1px;\n",
       "}\n",
       "\n",
       "#sk-container-id-4 div.sk-dashed-wrapped {\n",
       "  border: 1px dashed var(--sklearn-color-line);\n",
       "  margin: 0 0.4em 0.5em 0.4em;\n",
       "  box-sizing: border-box;\n",
       "  padding-bottom: 0.4em;\n",
       "  background-color: var(--sklearn-color-background);\n",
       "}\n",
       "\n",
       "#sk-container-id-4 div.sk-container {\n",
       "  /* jupyter's `normalize.less` sets `[hidden] { display: none; }`\n",
       "     but bootstrap.min.css set `[hidden] { display: none !important; }`\n",
       "     so we also need the `!important` here to be able to override the\n",
       "     default hidden behavior on the sphinx rendered scikit-learn.org.\n",
       "     See: https://github.com/scikit-learn/scikit-learn/issues/21755 */\n",
       "  display: inline-block !important;\n",
       "  position: relative;\n",
       "}\n",
       "\n",
       "#sk-container-id-4 div.sk-text-repr-fallback {\n",
       "  display: none;\n",
       "}\n",
       "\n",
       "div.sk-parallel-item,\n",
       "div.sk-serial,\n",
       "div.sk-item {\n",
       "  /* draw centered vertical line to link estimators */\n",
       "  background-image: linear-gradient(var(--sklearn-color-text-on-default-background), var(--sklearn-color-text-on-default-background));\n",
       "  background-size: 2px 100%;\n",
       "  background-repeat: no-repeat;\n",
       "  background-position: center center;\n",
       "}\n",
       "\n",
       "/* Parallel-specific style estimator block */\n",
       "\n",
       "#sk-container-id-4 div.sk-parallel-item::after {\n",
       "  content: \"\";\n",
       "  width: 100%;\n",
       "  border-bottom: 2px solid var(--sklearn-color-text-on-default-background);\n",
       "  flex-grow: 1;\n",
       "}\n",
       "\n",
       "#sk-container-id-4 div.sk-parallel {\n",
       "  display: flex;\n",
       "  align-items: stretch;\n",
       "  justify-content: center;\n",
       "  background-color: var(--sklearn-color-background);\n",
       "  position: relative;\n",
       "}\n",
       "\n",
       "#sk-container-id-4 div.sk-parallel-item {\n",
       "  display: flex;\n",
       "  flex-direction: column;\n",
       "}\n",
       "\n",
       "#sk-container-id-4 div.sk-parallel-item:first-child::after {\n",
       "  align-self: flex-end;\n",
       "  width: 50%;\n",
       "}\n",
       "\n",
       "#sk-container-id-4 div.sk-parallel-item:last-child::after {\n",
       "  align-self: flex-start;\n",
       "  width: 50%;\n",
       "}\n",
       "\n",
       "#sk-container-id-4 div.sk-parallel-item:only-child::after {\n",
       "  width: 0;\n",
       "}\n",
       "\n",
       "/* Serial-specific style estimator block */\n",
       "\n",
       "#sk-container-id-4 div.sk-serial {\n",
       "  display: flex;\n",
       "  flex-direction: column;\n",
       "  align-items: center;\n",
       "  background-color: var(--sklearn-color-background);\n",
       "  padding-right: 1em;\n",
       "  padding-left: 1em;\n",
       "}\n",
       "\n",
       "\n",
       "/* Toggleable style: style used for estimator/Pipeline/ColumnTransformer box that is\n",
       "clickable and can be expanded/collapsed.\n",
       "- Pipeline and ColumnTransformer use this feature and define the default style\n",
       "- Estimators will overwrite some part of the style using the `sk-estimator` class\n",
       "*/\n",
       "\n",
       "/* Pipeline and ColumnTransformer style (default) */\n",
       "\n",
       "#sk-container-id-4 div.sk-toggleable {\n",
       "  /* Default theme specific background. It is overwritten whether we have a\n",
       "  specific estimator or a Pipeline/ColumnTransformer */\n",
       "  background-color: var(--sklearn-color-background);\n",
       "}\n",
       "\n",
       "/* Toggleable label */\n",
       "#sk-container-id-4 label.sk-toggleable__label {\n",
       "  cursor: pointer;\n",
       "  display: block;\n",
       "  width: 100%;\n",
       "  margin-bottom: 0;\n",
       "  padding: 0.5em;\n",
       "  box-sizing: border-box;\n",
       "  text-align: center;\n",
       "}\n",
       "\n",
       "#sk-container-id-4 label.sk-toggleable__label-arrow:before {\n",
       "  /* Arrow on the left of the label */\n",
       "  content: \"▸\";\n",
       "  float: left;\n",
       "  margin-right: 0.25em;\n",
       "  color: var(--sklearn-color-icon);\n",
       "}\n",
       "\n",
       "#sk-container-id-4 label.sk-toggleable__label-arrow:hover:before {\n",
       "  color: var(--sklearn-color-text);\n",
       "}\n",
       "\n",
       "/* Toggleable content - dropdown */\n",
       "\n",
       "#sk-container-id-4 div.sk-toggleable__content {\n",
       "  max-height: 0;\n",
       "  max-width: 0;\n",
       "  overflow: hidden;\n",
       "  text-align: left;\n",
       "  /* unfitted */\n",
       "  background-color: var(--sklearn-color-unfitted-level-0);\n",
       "}\n",
       "\n",
       "#sk-container-id-4 div.sk-toggleable__content.fitted {\n",
       "  /* fitted */\n",
       "  background-color: var(--sklearn-color-fitted-level-0);\n",
       "}\n",
       "\n",
       "#sk-container-id-4 div.sk-toggleable__content pre {\n",
       "  margin: 0.2em;\n",
       "  border-radius: 0.25em;\n",
       "  color: var(--sklearn-color-text);\n",
       "  /* unfitted */\n",
       "  background-color: var(--sklearn-color-unfitted-level-0);\n",
       "}\n",
       "\n",
       "#sk-container-id-4 div.sk-toggleable__content.fitted pre {\n",
       "  /* unfitted */\n",
       "  background-color: var(--sklearn-color-fitted-level-0);\n",
       "}\n",
       "\n",
       "#sk-container-id-4 input.sk-toggleable__control:checked~div.sk-toggleable__content {\n",
       "  /* Expand drop-down */\n",
       "  max-height: 200px;\n",
       "  max-width: 100%;\n",
       "  overflow: auto;\n",
       "}\n",
       "\n",
       "#sk-container-id-4 input.sk-toggleable__control:checked~label.sk-toggleable__label-arrow:before {\n",
       "  content: \"▾\";\n",
       "}\n",
       "\n",
       "/* Pipeline/ColumnTransformer-specific style */\n",
       "\n",
       "#sk-container-id-4 div.sk-label input.sk-toggleable__control:checked~label.sk-toggleable__label {\n",
       "  color: var(--sklearn-color-text);\n",
       "  background-color: var(--sklearn-color-unfitted-level-2);\n",
       "}\n",
       "\n",
       "#sk-container-id-4 div.sk-label.fitted input.sk-toggleable__control:checked~label.sk-toggleable__label {\n",
       "  background-color: var(--sklearn-color-fitted-level-2);\n",
       "}\n",
       "\n",
       "/* Estimator-specific style */\n",
       "\n",
       "/* Colorize estimator box */\n",
       "#sk-container-id-4 div.sk-estimator input.sk-toggleable__control:checked~label.sk-toggleable__label {\n",
       "  /* unfitted */\n",
       "  background-color: var(--sklearn-color-unfitted-level-2);\n",
       "}\n",
       "\n",
       "#sk-container-id-4 div.sk-estimator.fitted input.sk-toggleable__control:checked~label.sk-toggleable__label {\n",
       "  /* fitted */\n",
       "  background-color: var(--sklearn-color-fitted-level-2);\n",
       "}\n",
       "\n",
       "#sk-container-id-4 div.sk-label label.sk-toggleable__label,\n",
       "#sk-container-id-4 div.sk-label label {\n",
       "  /* The background is the default theme color */\n",
       "  color: var(--sklearn-color-text-on-default-background);\n",
       "}\n",
       "\n",
       "/* On hover, darken the color of the background */\n",
       "#sk-container-id-4 div.sk-label:hover label.sk-toggleable__label {\n",
       "  color: var(--sklearn-color-text);\n",
       "  background-color: var(--sklearn-color-unfitted-level-2);\n",
       "}\n",
       "\n",
       "/* Label box, darken color on hover, fitted */\n",
       "#sk-container-id-4 div.sk-label.fitted:hover label.sk-toggleable__label.fitted {\n",
       "  color: var(--sklearn-color-text);\n",
       "  background-color: var(--sklearn-color-fitted-level-2);\n",
       "}\n",
       "\n",
       "/* Estimator label */\n",
       "\n",
       "#sk-container-id-4 div.sk-label label {\n",
       "  font-family: monospace;\n",
       "  font-weight: bold;\n",
       "  display: inline-block;\n",
       "  line-height: 1.2em;\n",
       "}\n",
       "\n",
       "#sk-container-id-4 div.sk-label-container {\n",
       "  text-align: center;\n",
       "}\n",
       "\n",
       "/* Estimator-specific */\n",
       "#sk-container-id-4 div.sk-estimator {\n",
       "  font-family: monospace;\n",
       "  border: 1px dotted var(--sklearn-color-border-box);\n",
       "  border-radius: 0.25em;\n",
       "  box-sizing: border-box;\n",
       "  margin-bottom: 0.5em;\n",
       "  /* unfitted */\n",
       "  background-color: var(--sklearn-color-unfitted-level-0);\n",
       "}\n",
       "\n",
       "#sk-container-id-4 div.sk-estimator.fitted {\n",
       "  /* fitted */\n",
       "  background-color: var(--sklearn-color-fitted-level-0);\n",
       "}\n",
       "\n",
       "/* on hover */\n",
       "#sk-container-id-4 div.sk-estimator:hover {\n",
       "  /* unfitted */\n",
       "  background-color: var(--sklearn-color-unfitted-level-2);\n",
       "}\n",
       "\n",
       "#sk-container-id-4 div.sk-estimator.fitted:hover {\n",
       "  /* fitted */\n",
       "  background-color: var(--sklearn-color-fitted-level-2);\n",
       "}\n",
       "\n",
       "/* Specification for estimator info (e.g. \"i\" and \"?\") */\n",
       "\n",
       "/* Common style for \"i\" and \"?\" */\n",
       "\n",
       ".sk-estimator-doc-link,\n",
       "a:link.sk-estimator-doc-link,\n",
       "a:visited.sk-estimator-doc-link {\n",
       "  float: right;\n",
       "  font-size: smaller;\n",
       "  line-height: 1em;\n",
       "  font-family: monospace;\n",
       "  background-color: var(--sklearn-color-background);\n",
       "  border-radius: 1em;\n",
       "  height: 1em;\n",
       "  width: 1em;\n",
       "  text-decoration: none !important;\n",
       "  margin-left: 1ex;\n",
       "  /* unfitted */\n",
       "  border: var(--sklearn-color-unfitted-level-1) 1pt solid;\n",
       "  color: var(--sklearn-color-unfitted-level-1);\n",
       "}\n",
       "\n",
       ".sk-estimator-doc-link.fitted,\n",
       "a:link.sk-estimator-doc-link.fitted,\n",
       "a:visited.sk-estimator-doc-link.fitted {\n",
       "  /* fitted */\n",
       "  border: var(--sklearn-color-fitted-level-1) 1pt solid;\n",
       "  color: var(--sklearn-color-fitted-level-1);\n",
       "}\n",
       "\n",
       "/* On hover */\n",
       "div.sk-estimator:hover .sk-estimator-doc-link:hover,\n",
       ".sk-estimator-doc-link:hover,\n",
       "div.sk-label-container:hover .sk-estimator-doc-link:hover,\n",
       ".sk-estimator-doc-link:hover {\n",
       "  /* unfitted */\n",
       "  background-color: var(--sklearn-color-unfitted-level-3);\n",
       "  color: var(--sklearn-color-background);\n",
       "  text-decoration: none;\n",
       "}\n",
       "\n",
       "div.sk-estimator.fitted:hover .sk-estimator-doc-link.fitted:hover,\n",
       ".sk-estimator-doc-link.fitted:hover,\n",
       "div.sk-label-container:hover .sk-estimator-doc-link.fitted:hover,\n",
       ".sk-estimator-doc-link.fitted:hover {\n",
       "  /* fitted */\n",
       "  background-color: var(--sklearn-color-fitted-level-3);\n",
       "  color: var(--sklearn-color-background);\n",
       "  text-decoration: none;\n",
       "}\n",
       "\n",
       "/* Span, style for the box shown on hovering the info icon */\n",
       ".sk-estimator-doc-link span {\n",
       "  display: none;\n",
       "  z-index: 9999;\n",
       "  position: relative;\n",
       "  font-weight: normal;\n",
       "  right: .2ex;\n",
       "  padding: .5ex;\n",
       "  margin: .5ex;\n",
       "  width: min-content;\n",
       "  min-width: 20ex;\n",
       "  max-width: 50ex;\n",
       "  color: var(--sklearn-color-text);\n",
       "  box-shadow: 2pt 2pt 4pt #999;\n",
       "  /* unfitted */\n",
       "  background: var(--sklearn-color-unfitted-level-0);\n",
       "  border: .5pt solid var(--sklearn-color-unfitted-level-3);\n",
       "}\n",
       "\n",
       ".sk-estimator-doc-link.fitted span {\n",
       "  /* fitted */\n",
       "  background: var(--sklearn-color-fitted-level-0);\n",
       "  border: var(--sklearn-color-fitted-level-3);\n",
       "}\n",
       "\n",
       ".sk-estimator-doc-link:hover span {\n",
       "  display: block;\n",
       "}\n",
       "\n",
       "/* \"?\"-specific style due to the `<a>` HTML tag */\n",
       "\n",
       "#sk-container-id-4 a.estimator_doc_link {\n",
       "  float: right;\n",
       "  font-size: 1rem;\n",
       "  line-height: 1em;\n",
       "  font-family: monospace;\n",
       "  background-color: var(--sklearn-color-background);\n",
       "  border-radius: 1rem;\n",
       "  height: 1rem;\n",
       "  width: 1rem;\n",
       "  text-decoration: none;\n",
       "  /* unfitted */\n",
       "  color: var(--sklearn-color-unfitted-level-1);\n",
       "  border: var(--sklearn-color-unfitted-level-1) 1pt solid;\n",
       "}\n",
       "\n",
       "#sk-container-id-4 a.estimator_doc_link.fitted {\n",
       "  /* fitted */\n",
       "  border: var(--sklearn-color-fitted-level-1) 1pt solid;\n",
       "  color: var(--sklearn-color-fitted-level-1);\n",
       "}\n",
       "\n",
       "/* On hover */\n",
       "#sk-container-id-4 a.estimator_doc_link:hover {\n",
       "  /* unfitted */\n",
       "  background-color: var(--sklearn-color-unfitted-level-3);\n",
       "  color: var(--sklearn-color-background);\n",
       "  text-decoration: none;\n",
       "}\n",
       "\n",
       "#sk-container-id-4 a.estimator_doc_link.fitted:hover {\n",
       "  /* fitted */\n",
       "  background-color: var(--sklearn-color-fitted-level-3);\n",
       "}\n",
       "</style><div id=\"sk-container-id-4\" class=\"sk-top-container\"><div class=\"sk-text-repr-fallback\"><pre>RandomForestClassifier()</pre><b>In a Jupyter environment, please rerun this cell to show the HTML representation or trust the notebook. <br />On GitHub, the HTML representation is unable to render, please try loading this page with nbviewer.org.</b></div><div class=\"sk-container\" hidden><div class=\"sk-item\"><div class=\"sk-estimator fitted sk-toggleable\"><input class=\"sk-toggleable__control sk-hidden--visually\" id=\"sk-estimator-id-4\" type=\"checkbox\" checked><label for=\"sk-estimator-id-4\" class=\"sk-toggleable__label fitted sk-toggleable__label-arrow fitted\">&nbsp;&nbsp;RandomForestClassifier<a class=\"sk-estimator-doc-link fitted\" rel=\"noreferrer\" target=\"_blank\" href=\"https://scikit-learn.org/1.5/modules/generated/sklearn.ensemble.RandomForestClassifier.html\">?<span>Documentation for RandomForestClassifier</span></a><span class=\"sk-estimator-doc-link fitted\">i<span>Fitted</span></span></label><div class=\"sk-toggleable__content fitted\"><pre>RandomForestClassifier()</pre></div> </div></div></div></div>"
      ],
      "text/plain": [
       "RandomForestClassifier()"
      ]
     },
     "execution_count": 113,
     "metadata": {},
     "output_type": "execute_result"
    }
   ],
   "source": [
    "from sklearn.ensemble import RandomForestClassifier\n",
    "RF = RandomForestClassifier()\n",
    "RF.fit(X_train, y_train)"
   ]
  },
  {
   "cell_type": "markdown",
   "metadata": {},
   "source": []
  },
  {
   "cell_type": "code",
   "execution_count": 114,
   "metadata": {},
   "outputs": [
    {
     "name": "stdout",
     "output_type": "stream",
     "text": [
      "Accuracy score: 0.9643073779650736 \n",
      "\n",
      "Precision score: 0.973483209692147 \n",
      "\n",
      "Recall score: 0.9707187892532835 \n",
      "\n",
      "F1 score: 0.9719932101087604 \n",
      "\n",
      "              precision    recall  f1-score   support\n",
      "\n",
      "           0       0.96      0.97      0.97      9802\n",
      "           1       1.00      0.96      0.98      4250\n",
      "           2       0.93      0.96      0.94      6114\n",
      "           3       1.00      1.00      1.00         5\n",
      "           4       0.95      0.93      0.94      6133\n",
      "           5       1.00      1.00      1.00      5019\n",
      "\n",
      "    accuracy                           0.96     31323\n",
      "   macro avg       0.97      0.97      0.97     31323\n",
      "weighted avg       0.96      0.96      0.96     31323\n",
      "\n"
     ]
    }
   ],
   "source": [
    "Static_score_model_class(y_test,y_pred(RF,X_test))"
   ]
  },
  {
   "cell_type": "code",
   "execution_count": 54,
   "metadata": {},
   "outputs": [],
   "source": [
    "import tensorflow as tf\n",
    "from tensorflow.keras.models import Sequential\n",
    "from tensorflow.keras.layers import Dense"
   ]
  },
  {
   "cell_type": "code",
   "execution_count": 55,
   "metadata": {},
   "outputs": [
    {
     "name": "stderr",
     "output_type": "stream",
     "text": [
      "c:\\Users\\nguye\\anaconda3\\Lib\\site-packages\\keras\\src\\layers\\core\\dense.py:87: UserWarning: Do not pass an `input_shape`/`input_dim` argument to a layer. When using Sequential models, prefer using an `Input(shape)` object as the first layer in the model instead.\n",
      "  super().__init__(activity_regularizer=activity_regularizer, **kwargs)\n"
     ]
    }
   ],
   "source": [
    "# Tạo mô hình Sequential\n",
    "model = Sequential()\n",
    "\n",
    "# Thêm lớp đầu vào với số lượng đặc trưng bằng số cột đầu vào (47)\n",
    "model.add(Dense(units=128, activation='relu', input_shape=(47,)))\n",
    "model.add(Dense(units=64, activation='relu'))\n",
    "model.add(Dense(units=32, activation='relu'))\n",
    "# Lớp đầu ra với 15 lớp và hàm kích hoạt softmax\n",
    "model.add(Dense(units=15, activation='softmax'))"
   ]
  },
  {
   "cell_type": "code",
   "execution_count": 56,
   "metadata": {},
   "outputs": [],
   "source": [
    "model.compile(optimizer='adam', loss='sparse_categorical_crossentropy', metrics=['accuracy'])\n"
   ]
  },
  {
   "cell_type": "code",
   "execution_count": 59,
   "metadata": {},
   "outputs": [
    {
     "name": "stdout",
     "output_type": "stream",
     "text": [
      "Epoch 1/30\n",
      "\u001b[1m2937/2937\u001b[0m \u001b[32m━━━━━━━━━━━━━━━━━━━━\u001b[0m\u001b[37m\u001b[0m \u001b[1m5s\u001b[0m 2ms/step - accuracy: 0.8015 - loss: 0.9124 - val_accuracy: 0.8002 - val_loss: 0.5001\n",
      "Epoch 2/30\n",
      "\u001b[1m2937/2937\u001b[0m \u001b[32m━━━━━━━━━━━━━━━━━━━━\u001b[0m\u001b[37m\u001b[0m \u001b[1m5s\u001b[0m 2ms/step - accuracy: 0.7994 - loss: 0.7920 - val_accuracy: 0.7924 - val_loss: 0.5901\n",
      "Epoch 3/30\n",
      "\u001b[1m2937/2937\u001b[0m \u001b[32m━━━━━━━━━━━━━━━━━━━━\u001b[0m\u001b[37m\u001b[0m \u001b[1m4s\u001b[0m 1ms/step - accuracy: 0.8039 - loss: 0.7227 - val_accuracy: 0.8017 - val_loss: 0.4886\n",
      "Epoch 4/30\n",
      "\u001b[1m2937/2937\u001b[0m \u001b[32m━━━━━━━━━━━━━━━━━━━━\u001b[0m\u001b[37m\u001b[0m \u001b[1m5s\u001b[0m 2ms/step - accuracy: 0.8003 - loss: 1.3585 - val_accuracy: 0.8003 - val_loss: 0.4839\n",
      "Epoch 5/30\n",
      "\u001b[1m2937/2937\u001b[0m \u001b[32m━━━━━━━━━━━━━━━━━━━━\u001b[0m\u001b[37m\u001b[0m \u001b[1m8s\u001b[0m 3ms/step - accuracy: 0.8050 - loss: 2.2569 - val_accuracy: 0.8020 - val_loss: 0.6557\n",
      "Epoch 6/30\n",
      "\u001b[1m2937/2937\u001b[0m \u001b[32m━━━━━━━━━━━━━━━━━━━━\u001b[0m\u001b[37m\u001b[0m \u001b[1m7s\u001b[0m 2ms/step - accuracy: 0.8013 - loss: 3.0998 - val_accuracy: 0.8016 - val_loss: 0.6674\n",
      "Epoch 7/30\n",
      "\u001b[1m2937/2937\u001b[0m \u001b[32m━━━━━━━━━━━━━━━━━━━━\u001b[0m\u001b[37m\u001b[0m \u001b[1m7s\u001b[0m 2ms/step - accuracy: 0.8075 - loss: 1.0362 - val_accuracy: 0.8020 - val_loss: 0.5145\n",
      "Epoch 8/30\n",
      "\u001b[1m2937/2937\u001b[0m \u001b[32m━━━━━━━━━━━━━━━━━━━━\u001b[0m\u001b[37m\u001b[0m \u001b[1m8s\u001b[0m 3ms/step - accuracy: 0.8055 - loss: 0.6279 - val_accuracy: 0.7921 - val_loss: 0.7490\n",
      "Epoch 9/30\n",
      "\u001b[1m2937/2937\u001b[0m \u001b[32m━━━━━━━━━━━━━━━━━━━━\u001b[0m\u001b[37m\u001b[0m \u001b[1m8s\u001b[0m 3ms/step - accuracy: 0.7998 - loss: 1.7798 - val_accuracy: 0.7926 - val_loss: 0.6280\n",
      "Epoch 10/30\n",
      "\u001b[1m2937/2937\u001b[0m \u001b[32m━━━━━━━━━━━━━━━━━━━━\u001b[0m\u001b[37m\u001b[0m \u001b[1m8s\u001b[0m 3ms/step - accuracy: 0.8049 - loss: 13.4032 - val_accuracy: 0.8009 - val_loss: 0.4883\n",
      "Epoch 11/30\n",
      "\u001b[1m2937/2937\u001b[0m \u001b[32m━━━━━━━━━━━━━━━━━━━━\u001b[0m\u001b[37m\u001b[0m \u001b[1m8s\u001b[0m 3ms/step - accuracy: 0.8067 - loss: 1.1960 - val_accuracy: 0.8036 - val_loss: 0.5966\n",
      "Epoch 12/30\n",
      "\u001b[1m2937/2937\u001b[0m \u001b[32m━━━━━━━━━━━━━━━━━━━━\u001b[0m\u001b[37m\u001b[0m \u001b[1m9s\u001b[0m 3ms/step - accuracy: 0.8048 - loss: 0.7661 - val_accuracy: 0.8021 - val_loss: 0.5911\n",
      "Epoch 13/30\n",
      "\u001b[1m2937/2937\u001b[0m \u001b[32m━━━━━━━━━━━━━━━━━━━━\u001b[0m\u001b[37m\u001b[0m \u001b[1m8s\u001b[0m 3ms/step - accuracy: 0.8050 - loss: 0.6231 - val_accuracy: 0.8047 - val_loss: 0.4517\n",
      "Epoch 14/30\n",
      "\u001b[1m2937/2937\u001b[0m \u001b[32m━━━━━━━━━━━━━━━━━━━━\u001b[0m\u001b[37m\u001b[0m \u001b[1m9s\u001b[0m 3ms/step - accuracy: 0.8059 - loss: 0.8219 - val_accuracy: 0.8012 - val_loss: 0.5179\n",
      "Epoch 15/30\n",
      "\u001b[1m2937/2937\u001b[0m \u001b[32m━━━━━━━━━━━━━━━━━━━━\u001b[0m\u001b[37m\u001b[0m \u001b[1m8s\u001b[0m 3ms/step - accuracy: 0.7987 - loss: 0.8728 - val_accuracy: 0.7979 - val_loss: 0.4927\n",
      "Epoch 16/30\n",
      "\u001b[1m2937/2937\u001b[0m \u001b[32m━━━━━━━━━━━━━━━━━━━━\u001b[0m\u001b[37m\u001b[0m \u001b[1m9s\u001b[0m 3ms/step - accuracy: 0.8002 - loss: 0.5410 - val_accuracy: 0.7135 - val_loss: 1.1846\n",
      "Epoch 17/30\n",
      "\u001b[1m2937/2937\u001b[0m \u001b[32m━━━━━━━━━━━━━━━━━━━━\u001b[0m\u001b[37m\u001b[0m \u001b[1m8s\u001b[0m 3ms/step - accuracy: 0.7200 - loss: 1.1529 - val_accuracy: 0.7188 - val_loss: 0.8419\n",
      "Epoch 18/30\n",
      "\u001b[1m2937/2937\u001b[0m \u001b[32m━━━━━━━━━━━━━━━━━━━━\u001b[0m\u001b[37m\u001b[0m \u001b[1m8s\u001b[0m 3ms/step - accuracy: 0.7201 - loss: 4.2436 - val_accuracy: 0.7111 - val_loss: 0.6930\n",
      "Epoch 19/30\n",
      "\u001b[1m2937/2937\u001b[0m \u001b[32m━━━━━━━━━━━━━━━━━━━━\u001b[0m\u001b[37m\u001b[0m \u001b[1m9s\u001b[0m 3ms/step - accuracy: 0.7337 - loss: 0.6706 - val_accuracy: 0.7357 - val_loss: 0.9280\n",
      "Epoch 20/30\n",
      "\u001b[1m2937/2937\u001b[0m \u001b[32m━━━━━━━━━━━━━━━━━━━━\u001b[0m\u001b[37m\u001b[0m \u001b[1m8s\u001b[0m 3ms/step - accuracy: 0.7404 - loss: 4.4262 - val_accuracy: 0.7137 - val_loss: 0.7792\n",
      "Epoch 21/30\n",
      "\u001b[1m2937/2937\u001b[0m \u001b[32m━━━━━━━━━━━━━━━━━━━━\u001b[0m\u001b[37m\u001b[0m \u001b[1m7s\u001b[0m 2ms/step - accuracy: 0.7394 - loss: 0.6776 - val_accuracy: 0.7403 - val_loss: 0.6709\n",
      "Epoch 22/30\n",
      "\u001b[1m2937/2937\u001b[0m \u001b[32m━━━━━━━━━━━━━━━━━━━━\u001b[0m\u001b[37m\u001b[0m \u001b[1m4s\u001b[0m 2ms/step - accuracy: 0.7470 - loss: 4.1683 - val_accuracy: 0.8032 - val_loss: 0.5020\n",
      "Epoch 23/30\n",
      "\u001b[1m2937/2937\u001b[0m \u001b[32m━━━━━━━━━━━━━━━━━━━━\u001b[0m\u001b[37m\u001b[0m \u001b[1m5s\u001b[0m 2ms/step - accuracy: 0.8038 - loss: 0.4827 - val_accuracy: 0.7990 - val_loss: 0.4867\n",
      "Epoch 24/30\n",
      "\u001b[1m2937/2937\u001b[0m \u001b[32m━━━━━━━━━━━━━━━━━━━━\u001b[0m\u001b[37m\u001b[0m \u001b[1m5s\u001b[0m 2ms/step - accuracy: 0.8017 - loss: 0.4819 - val_accuracy: 0.8002 - val_loss: 0.4775\n",
      "Epoch 25/30\n",
      "\u001b[1m2937/2937\u001b[0m \u001b[32m━━━━━━━━━━━━━━━━━━━━\u001b[0m\u001b[37m\u001b[0m \u001b[1m12s\u001b[0m 4ms/step - accuracy: 0.7415 - loss: 0.8965 - val_accuracy: 0.7219 - val_loss: 0.6668\n",
      "Epoch 26/30\n",
      "\u001b[1m2937/2937\u001b[0m \u001b[32m━━━━━━━━━━━━━━━━━━━━\u001b[0m\u001b[37m\u001b[0m \u001b[1m5s\u001b[0m 2ms/step - accuracy: 0.7410 - loss: 6.0596 - val_accuracy: 0.7431 - val_loss: 0.6431\n",
      "Epoch 27/30\n",
      "\u001b[1m2937/2937\u001b[0m \u001b[32m━━━━━━━━━━━━━━━━━━━━\u001b[0m\u001b[37m\u001b[0m \u001b[1m5s\u001b[0m 2ms/step - accuracy: 0.7503 - loss: 0.6785 - val_accuracy: 0.7159 - val_loss: 0.6667\n",
      "Epoch 28/30\n",
      "\u001b[1m2937/2937\u001b[0m \u001b[32m━━━━━━━━━━━━━━━━━━━━\u001b[0m\u001b[37m\u001b[0m \u001b[1m5s\u001b[0m 2ms/step - accuracy: 0.7389 - loss: 0.7254 - val_accuracy: 0.7404 - val_loss: 1.9113\n",
      "Epoch 29/30\n",
      "\u001b[1m2937/2937\u001b[0m \u001b[32m━━━━━━━━━━━━━━━━━━━━\u001b[0m\u001b[37m\u001b[0m \u001b[1m5s\u001b[0m 2ms/step - accuracy: 0.7461 - loss: 0.7745 - val_accuracy: 0.7454 - val_loss: 0.6420\n",
      "Epoch 30/30\n",
      "\u001b[1m2937/2937\u001b[0m \u001b[32m━━━━━━━━━━━━━━━━━━━━\u001b[0m\u001b[37m\u001b[0m \u001b[1m5s\u001b[0m 2ms/step - accuracy: 0.7458 - loss: 0.8978 - val_accuracy: 0.7395 - val_loss: 0.6632\n"
     ]
    }
   ],
   "source": [
    "# Huấn luyện mô hình\n",
    "history = model.fit(X_train, y_train, epochs=30, batch_size=32, validation_split=0.2)"
   ]
  },
  {
   "cell_type": "code",
   "execution_count": 60,
   "metadata": {},
   "outputs": [
    {
     "name": "stdout",
     "output_type": "stream",
     "text": [
      "\u001b[1m1224/1224\u001b[0m \u001b[32m━━━━━━━━━━━━━━━━━━━━\u001b[0m\u001b[37m\u001b[0m \u001b[1m1s\u001b[0m 1ms/step - accuracy: 0.7503 - loss: 0.6498\n",
      "Test Loss: 0.669485867023468\n",
      "Test Accuracy: 0.7486591339111328\n"
     ]
    }
   ],
   "source": [
    "# Đánh giá mô hình\n",
    "loss, accuracy = model.evaluate(X_test, y_test)\n",
    "print(f\"Test Loss: {loss}\")\n",
    "print(f\"Test Accuracy: {accuracy}\")"
   ]
  },
  {
   "cell_type": "code",
   "execution_count": 117,
   "metadata": {},
   "outputs": [],
   "source": [
    "import torch\n",
    "import torch.nn as nn\n",
    "import torch.optim as optim\n",
    "from torch.utils.data import DataLoader, TensorDataset\n",
    "X_train_tensor = torch.tensor(X_train, dtype = torch.float32)\n",
    "y_train_tensor = torch.tensor(y_train.to_numpy(), dtype=torch.long)\n",
    "X_test_tensor = torch.tensor(X_test, dtype=torch.float32)\n",
    "y_test_tensor = torch.tensor(y_test.to_numpy(), dtype=torch.long)"
   ]
  },
  {
   "cell_type": "code",
   "execution_count": 121,
   "metadata": {},
   "outputs": [
    {
     "data": {
      "text/plain": [
       "(125291, 47)"
      ]
     },
     "execution_count": 121,
     "metadata": {},
     "output_type": "execute_result"
    }
   ],
   "source": [
    "X_train.shape"
   ]
  },
  {
   "cell_type": "code",
   "execution_count": 118,
   "metadata": {},
   "outputs": [],
   "source": [
    "# Create PyTorch dataset and dataloader\n",
    "train_dataset = TensorDataset(X_train_tensor, y_train_tensor)\n",
    "test_dataset = TensorDataset(X_test_tensor, y_test_tensor)\n",
    "train_loader = DataLoader(train_dataset, batch_size=32, shuffle=True)\n",
    "test_loader = DataLoader(test_dataset, batch_size=32, shuffle=False)"
   ]
  },
  {
   "cell_type": "code",
   "execution_count": 122,
   "metadata": {},
   "outputs": [
    {
     "name": "stdout",
     "output_type": "stream",
     "text": [
      "Epoch [1/100], Train Loss: 1.2614\n",
      "Epoch [1/100], Test Accuracy: 82.09%\n",
      "Epoch [2/100], Train Loss: 1.2171\n",
      "Epoch [2/100], Test Accuracy: 83.11%\n",
      "Epoch [3/100], Train Loss: 1.2125\n",
      "Epoch [3/100], Test Accuracy: 83.18%\n",
      "Epoch [4/100], Train Loss: 1.2116\n",
      "Epoch [4/100], Test Accuracy: 83.05%\n",
      "Epoch [5/100], Train Loss: 1.2114\n",
      "Epoch [5/100], Test Accuracy: 83.06%\n",
      "Epoch [6/100], Train Loss: 1.2110\n",
      "Epoch [6/100], Test Accuracy: 83.05%\n",
      "Epoch [7/100], Train Loss: 1.2112\n",
      "Epoch [7/100], Test Accuracy: 83.10%\n",
      "Epoch [8/100], Train Loss: 1.2106\n",
      "Epoch [8/100], Test Accuracy: 82.85%\n",
      "Epoch [9/100], Train Loss: 1.2106\n",
      "Epoch [9/100], Test Accuracy: 83.26%\n",
      "Epoch [10/100], Train Loss: 1.2124\n",
      "Epoch [10/100], Test Accuracy: 83.15%\n",
      "Epoch [11/100], Train Loss: 1.2104\n",
      "Epoch [11/100], Test Accuracy: 83.31%\n",
      "Epoch [12/100], Train Loss: 1.2095\n",
      "Epoch [12/100], Test Accuracy: 83.21%\n",
      "Epoch [13/100], Train Loss: 1.2095\n",
      "Epoch [13/100], Test Accuracy: 83.22%\n",
      "Epoch [14/100], Train Loss: 1.2096\n",
      "Epoch [14/100], Test Accuracy: 83.38%\n",
      "Epoch [15/100], Train Loss: 1.2101\n",
      "Epoch [15/100], Test Accuracy: 83.28%\n",
      "Epoch [16/100], Train Loss: 1.2093\n",
      "Epoch [16/100], Test Accuracy: 83.25%\n",
      "Epoch [17/100], Train Loss: 1.2089\n",
      "Epoch [17/100], Test Accuracy: 83.32%\n",
      "Epoch [18/100], Train Loss: 1.2091\n",
      "Epoch [18/100], Test Accuracy: 83.37%\n",
      "Epoch [19/100], Train Loss: 1.2092\n",
      "Epoch [19/100], Test Accuracy: 83.22%\n",
      "Epoch [20/100], Train Loss: 1.2091\n",
      "Epoch [20/100], Test Accuracy: 83.32%\n",
      "Epoch [21/100], Train Loss: 1.2088\n",
      "Epoch [21/100], Test Accuracy: 83.32%\n",
      "Epoch [22/100], Train Loss: 1.2086\n",
      "Epoch [22/100], Test Accuracy: 83.37%\n",
      "Epoch [23/100], Train Loss: 1.2097\n",
      "Epoch [23/100], Test Accuracy: 82.75%\n",
      "Epoch [24/100], Train Loss: 1.2098\n",
      "Epoch [24/100], Test Accuracy: 83.23%\n",
      "Epoch [25/100], Train Loss: 1.2091\n",
      "Epoch [25/100], Test Accuracy: 83.35%\n",
      "Epoch [26/100], Train Loss: 1.2098\n",
      "Epoch [26/100], Test Accuracy: 83.22%\n",
      "Epoch [27/100], Train Loss: 1.2097\n",
      "Epoch [27/100], Test Accuracy: 83.24%\n",
      "Epoch [28/100], Train Loss: 1.2091\n",
      "Epoch [28/100], Test Accuracy: 83.35%\n",
      "Epoch [29/100], Train Loss: 1.2092\n",
      "Epoch [29/100], Test Accuracy: 83.26%\n",
      "Epoch [30/100], Train Loss: 1.2093\n",
      "Epoch [30/100], Test Accuracy: 83.33%\n",
      "Epoch [31/100], Train Loss: 1.2092\n",
      "Epoch [31/100], Test Accuracy: 83.18%\n",
      "Epoch [32/100], Train Loss: 1.2098\n",
      "Epoch [32/100], Test Accuracy: 83.22%\n",
      "Epoch [33/100], Train Loss: 1.2087\n",
      "Epoch [33/100], Test Accuracy: 83.31%\n",
      "Epoch [34/100], Train Loss: 1.2085\n",
      "Epoch [34/100], Test Accuracy: 83.37%\n",
      "Epoch [35/100], Train Loss: 1.2089\n",
      "Epoch [35/100], Test Accuracy: 83.33%\n",
      "Epoch [36/100], Train Loss: 1.2089\n",
      "Epoch [36/100], Test Accuracy: 82.75%\n",
      "Epoch [37/100], Train Loss: 1.2091\n",
      "Epoch [37/100], Test Accuracy: 83.16%\n",
      "Epoch [38/100], Train Loss: 1.2081\n",
      "Epoch [38/100], Test Accuracy: 83.33%\n",
      "Epoch [39/100], Train Loss: 1.2082\n",
      "Epoch [39/100], Test Accuracy: 83.35%\n",
      "Epoch [40/100], Train Loss: 1.2082\n",
      "Epoch [40/100], Test Accuracy: 83.45%\n",
      "Epoch [41/100], Train Loss: 1.2081\n",
      "Epoch [41/100], Test Accuracy: 83.49%\n",
      "Epoch [42/100], Train Loss: 1.2076\n",
      "Epoch [42/100], Test Accuracy: 83.39%\n",
      "Epoch [43/100], Train Loss: 1.2085\n",
      "Epoch [43/100], Test Accuracy: 83.34%\n",
      "Epoch [44/100], Train Loss: 1.2074\n",
      "Epoch [44/100], Test Accuracy: 83.50%\n",
      "Epoch [45/100], Train Loss: 1.2089\n",
      "Epoch [45/100], Test Accuracy: 83.55%\n",
      "Epoch [46/100], Train Loss: 1.2053\n",
      "Epoch [46/100], Test Accuracy: 83.87%\n",
      "Epoch [47/100], Train Loss: 1.2038\n",
      "Epoch [47/100], Test Accuracy: 84.06%\n",
      "Epoch [48/100], Train Loss: 1.2034\n",
      "Epoch [48/100], Test Accuracy: 84.06%\n",
      "Epoch [49/100], Train Loss: 1.2027\n",
      "Epoch [49/100], Test Accuracy: 83.72%\n",
      "Epoch [50/100], Train Loss: 1.2028\n",
      "Epoch [50/100], Test Accuracy: 84.09%\n",
      "Epoch [51/100], Train Loss: 1.2029\n",
      "Epoch [51/100], Test Accuracy: 84.04%\n",
      "Epoch [52/100], Train Loss: 1.2040\n",
      "Epoch [52/100], Test Accuracy: 83.44%\n",
      "Epoch [53/100], Train Loss: 1.2034\n",
      "Epoch [53/100], Test Accuracy: 84.09%\n",
      "Epoch [54/100], Train Loss: 1.2018\n",
      "Epoch [54/100], Test Accuracy: 84.10%\n",
      "Epoch [55/100], Train Loss: 1.2020\n",
      "Epoch [55/100], Test Accuracy: 84.03%\n",
      "Epoch [56/100], Train Loss: 1.2028\n",
      "Epoch [56/100], Test Accuracy: 83.62%\n",
      "Epoch [57/100], Train Loss: 1.2026\n",
      "Epoch [57/100], Test Accuracy: 84.03%\n",
      "Epoch [58/100], Train Loss: 1.2018\n",
      "Epoch [58/100], Test Accuracy: 84.04%\n",
      "Epoch [59/100], Train Loss: 1.2054\n",
      "Epoch [59/100], Test Accuracy: 83.49%\n",
      "Epoch [60/100], Train Loss: 1.2070\n",
      "Epoch [60/100], Test Accuracy: 83.60%\n",
      "Epoch [61/100], Train Loss: 1.2036\n",
      "Epoch [61/100], Test Accuracy: 84.09%\n",
      "Epoch [62/100], Train Loss: 1.2018\n",
      "Epoch [62/100], Test Accuracy: 84.06%\n",
      "Epoch [63/100], Train Loss: 1.2019\n",
      "Epoch [63/100], Test Accuracy: 84.01%\n",
      "Epoch [64/100], Train Loss: 1.2020\n",
      "Epoch [64/100], Test Accuracy: 84.07%\n",
      "Epoch [65/100], Train Loss: 1.2021\n",
      "Epoch [65/100], Test Accuracy: 83.59%\n",
      "Epoch [66/100], Train Loss: 1.2026\n",
      "Epoch [66/100], Test Accuracy: 84.07%\n",
      "Epoch [67/100], Train Loss: 1.2022\n",
      "Epoch [67/100], Test Accuracy: 83.82%\n",
      "Epoch [68/100], Train Loss: 1.2017\n",
      "Epoch [68/100], Test Accuracy: 84.09%\n",
      "Epoch [69/100], Train Loss: 1.2014\n",
      "Epoch [69/100], Test Accuracy: 84.08%\n",
      "Epoch [70/100], Train Loss: 1.2014\n",
      "Epoch [70/100], Test Accuracy: 84.09%\n",
      "Epoch [71/100], Train Loss: 1.2017\n",
      "Epoch [71/100], Test Accuracy: 84.09%\n",
      "Epoch [72/100], Train Loss: 1.2023\n",
      "Epoch [72/100], Test Accuracy: 84.12%\n",
      "Epoch [73/100], Train Loss: 1.2020\n",
      "Epoch [73/100], Test Accuracy: 84.09%\n",
      "Epoch [74/100], Train Loss: 1.2015\n",
      "Epoch [74/100], Test Accuracy: 83.99%\n",
      "Epoch [75/100], Train Loss: 1.2014\n",
      "Epoch [75/100], Test Accuracy: 84.09%\n",
      "Epoch [76/100], Train Loss: 1.2016\n",
      "Epoch [76/100], Test Accuracy: 84.11%\n",
      "Epoch [77/100], Train Loss: 1.2017\n",
      "Epoch [77/100], Test Accuracy: 84.09%\n",
      "Epoch [78/100], Train Loss: 1.2020\n",
      "Epoch [78/100], Test Accuracy: 84.09%\n",
      "Epoch [79/100], Train Loss: 1.2013\n",
      "Epoch [79/100], Test Accuracy: 84.15%\n",
      "Epoch [80/100], Train Loss: 1.2012\n",
      "Epoch [80/100], Test Accuracy: 83.55%\n",
      "Epoch [81/100], Train Loss: 1.2015\n",
      "Epoch [81/100], Test Accuracy: 83.90%\n",
      "Epoch [82/100], Train Loss: 1.2035\n",
      "Epoch [82/100], Test Accuracy: 84.08%\n",
      "Epoch [83/100], Train Loss: 1.2017\n",
      "Epoch [83/100], Test Accuracy: 84.15%\n",
      "Epoch [84/100], Train Loss: 1.2011\n",
      "Epoch [84/100], Test Accuracy: 84.13%\n",
      "Epoch [85/100], Train Loss: 1.2011\n",
      "Epoch [85/100], Test Accuracy: 84.15%\n",
      "Epoch [86/100], Train Loss: 1.2013\n",
      "Epoch [86/100], Test Accuracy: 84.10%\n",
      "Epoch [87/100], Train Loss: 1.2014\n",
      "Epoch [87/100], Test Accuracy: 84.08%\n",
      "Epoch [88/100], Train Loss: 1.2014\n",
      "Epoch [88/100], Test Accuracy: 84.12%\n",
      "Epoch [89/100], Train Loss: 1.2014\n",
      "Epoch [89/100], Test Accuracy: 84.15%\n",
      "Epoch [90/100], Train Loss: 1.2011\n",
      "Epoch [90/100], Test Accuracy: 84.11%\n",
      "Epoch [91/100], Train Loss: 1.2015\n",
      "Epoch [91/100], Test Accuracy: 84.08%\n",
      "Epoch [92/100], Train Loss: 1.2014\n",
      "Epoch [92/100], Test Accuracy: 84.14%\n",
      "Epoch [93/100], Train Loss: 1.2011\n",
      "Epoch [93/100], Test Accuracy: 84.13%\n",
      "Epoch [94/100], Train Loss: 1.2011\n",
      "Epoch [94/100], Test Accuracy: 83.99%\n",
      "Epoch [95/100], Train Loss: 1.2015\n",
      "Epoch [95/100], Test Accuracy: 84.08%\n",
      "Epoch [96/100], Train Loss: 1.2018\n",
      "Epoch [96/100], Test Accuracy: 84.12%\n",
      "Epoch [97/100], Train Loss: 1.2008\n",
      "Epoch [97/100], Test Accuracy: 84.16%\n",
      "Epoch [98/100], Train Loss: 1.2011\n",
      "Epoch [98/100], Test Accuracy: 84.00%\n",
      "Epoch [99/100], Train Loss: 1.2007\n",
      "Epoch [99/100], Test Accuracy: 84.16%\n",
      "Epoch [100/100], Train Loss: 1.2015\n",
      "Epoch [100/100], Test Accuracy: 84.12%\n"
     ]
    }
   ],
   "source": [
    "# define the model\n",
    "class DNN(nn.Module) :\n",
    "    def __init__(self) :\n",
    "        super(DNN, self).__init__()\n",
    "        self.fc1 = nn.Linear(47, 128)\n",
    "        self.dropout1 = nn.Dropout(0.2)\n",
    "        self.fc2 = nn.Linear(128, 64)\n",
    "        self.dropout2 = nn.Dropout(0.2)\n",
    "        self.fc3 = nn.Linear(64, 32)\n",
    "        self.dropout3 = nn.Dropout(0.2)\n",
    "        self.fc4 = nn.Linear(32, 6)\n",
    "        self.softmax = nn.Softmax(dim=1)\n",
    "    def forward(self, x):\n",
    "        x = self.fc1(x)\n",
    "        x = nn.ReLU()(x)\n",
    "        x = self.dropout1(x)\n",
    "        x = self.fc2(x)\n",
    "        x = nn.ReLU()(x)\n",
    "        x = self.dropout2(x)\n",
    "        x = self.fc3(x)\n",
    "        x = nn.ReLU()(x)\n",
    "        x = self.dropout3(x)\n",
    "        x = self.fc4(x)\n",
    "        x = self.softmax(x)\n",
    "        return x\n",
    "    \n",
    "# Initialize the model, optimizer, and loss function\n",
    "model = DNN()\n",
    "optimizer = optim.Adam(model.parameters(), lr=0.001)\n",
    "criterion = nn.CrossEntropyLoss()\n",
    "# Training loop\n",
    "\n",
    "num_epochs = 100\n",
    "\n",
    "for epoch in range(num_epochs):\n",
    "    # Training\n",
    "    model.train()\n",
    "    running_loss = 0.0\n",
    "    for i, (inputs, labels) in enumerate(train_loader):\n",
    "        optimizer.zero_grad()\n",
    "        outputs = model(inputs)\n",
    "        loss = criterion(outputs, labels)\n",
    "        loss.backward()\n",
    "        optimizer.step()\n",
    "        running_loss += loss.item()\n",
    "    print(f'Epoch [{epoch+1}/{num_epochs}], Train Loss: {running_loss/len(train_loader):.4f}')\n",
    "\n",
    "    # Validation\n",
    "    model.eval()\n",
    "    with torch.no_grad():\n",
    "        correct = 0\n",
    "        total = 0\n",
    "        for inputs, labels in test_loader:\n",
    "            outputs = model(inputs)\n",
    "            _, predicted = torch.max(outputs.data, 1)\n",
    "            total += labels.size(0)\n",
    "            correct += (predicted == labels).sum().item()\n",
    "        print(f'Epoch [{epoch+1}/{num_epochs}], Test Accuracy: {100 * correct / total:.2f}%')"
   ]
  },
  {
   "cell_type": "code",
   "execution_count": 123,
   "metadata": {},
   "outputs": [],
   "source": [
    "import time\n",
    "torch.save(model.state_dict(),'model_weights.pth')"
   ]
  },
  {
   "cell_type": "code",
   "execution_count": 124,
   "metadata": {},
   "outputs": [
    {
     "name": "stdout",
     "output_type": "stream",
     "text": [
      "0.16441917419433594\n"
     ]
    },
    {
     "name": "stderr",
     "output_type": "stream",
     "text": [
      "C:\\Users\\nguye\\AppData\\Local\\Temp\\ipykernel_14416\\1052192933.py:2: FutureWarning: You are using `torch.load` with `weights_only=False` (the current default value), which uses the default pickle module implicitly. It is possible to construct malicious pickle data which will execute arbitrary code during unpickling (See https://github.com/pytorch/pytorch/blob/main/SECURITY.md#untrusted-models for more details). In a future release, the default value for `weights_only` will be flipped to `True`. This limits the functions that could be executed during unpickling. Arbitrary objects will no longer be allowed to be loaded via this mode unless they are explicitly allowlisted by the user via `torch.serialization.add_safe_globals`. We recommend you start setting `weights_only=True` for any use case where you don't have full control of the loaded file. Please open an issue on GitHub for any issues related to this experimental feature.\n",
      "  model.load_state_dict(torch.load('model_weights.pth'))\n"
     ]
    }
   ],
   "source": [
    "start_time = time.time()\n",
    "model.load_state_dict(torch.load('model_weights.pth'))\n",
    "model.eval()\n",
    "output = model(X_test_tensor[:1])\n",
    "end_time = time.time()\n",
    "print(end_time - start_time)"
   ]
  }
 ],
 "metadata": {
  "kernelspec": {
   "display_name": "iot",
   "language": "python",
   "name": "python3"
  },
  "language_info": {
   "codemirror_mode": {
    "name": "ipython",
    "version": 3
   },
   "file_extension": ".py",
   "mimetype": "text/x-python",
   "name": "python",
   "nbconvert_exporter": "python",
   "pygments_lexer": "ipython3",
   "version": "3.12.4"
  }
 },
 "nbformat": 4,
 "nbformat_minor": 2
}
